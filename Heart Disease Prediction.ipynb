{
 "cells": [
  {
   "cell_type": "markdown",
   "id": "1c1411a3",
   "metadata": {},
   "source": [
    "# Importing the Libraries"
   ]
  },
  {
   "cell_type": "code",
   "execution_count": 1,
   "id": "33931100",
   "metadata": {},
   "outputs": [],
   "source": [
    "import numpy as np\n",
    "import pandas as pd\n",
    "import matplotlib.pyplot as plt\n",
    "import seaborn as sb"
   ]
  },
  {
   "cell_type": "markdown",
   "id": "b1cbf88c",
   "metadata": {},
   "source": [
    "# Reading the Data"
   ]
  },
  {
   "cell_type": "code",
   "execution_count": 2,
   "id": "1178c3ba",
   "metadata": {},
   "outputs": [],
   "source": [
    "data=pd.read_csv('heart.csv')"
   ]
  },
  {
   "cell_type": "markdown",
   "id": "1cfff47a",
   "metadata": {},
   "source": [
    "# Data Preprocessing"
   ]
  },
  {
   "cell_type": "code",
   "execution_count": 3,
   "id": "b4e9945b",
   "metadata": {},
   "outputs": [
    {
     "data": {
      "text/html": [
       "<div>\n",
       "<style scoped>\n",
       "    .dataframe tbody tr th:only-of-type {\n",
       "        vertical-align: middle;\n",
       "    }\n",
       "\n",
       "    .dataframe tbody tr th {\n",
       "        vertical-align: top;\n",
       "    }\n",
       "\n",
       "    .dataframe thead th {\n",
       "        text-align: right;\n",
       "    }\n",
       "</style>\n",
       "<table border=\"1\" class=\"dataframe\">\n",
       "  <thead>\n",
       "    <tr style=\"text-align: right;\">\n",
       "      <th></th>\n",
       "      <th>age</th>\n",
       "      <th>sex</th>\n",
       "      <th>cp</th>\n",
       "      <th>trestbps</th>\n",
       "      <th>chol</th>\n",
       "      <th>fbs</th>\n",
       "      <th>restecg</th>\n",
       "      <th>thalach</th>\n",
       "      <th>exang</th>\n",
       "      <th>oldpeak</th>\n",
       "      <th>slope</th>\n",
       "      <th>ca</th>\n",
       "      <th>thal</th>\n",
       "      <th>target</th>\n",
       "    </tr>\n",
       "  </thead>\n",
       "  <tbody>\n",
       "    <tr>\n",
       "      <th>0</th>\n",
       "      <td>63</td>\n",
       "      <td>1</td>\n",
       "      <td>3</td>\n",
       "      <td>145</td>\n",
       "      <td>233</td>\n",
       "      <td>1</td>\n",
       "      <td>0</td>\n",
       "      <td>150</td>\n",
       "      <td>0</td>\n",
       "      <td>2.3</td>\n",
       "      <td>0</td>\n",
       "      <td>0</td>\n",
       "      <td>1</td>\n",
       "      <td>1</td>\n",
       "    </tr>\n",
       "    <tr>\n",
       "      <th>1</th>\n",
       "      <td>37</td>\n",
       "      <td>1</td>\n",
       "      <td>2</td>\n",
       "      <td>130</td>\n",
       "      <td>250</td>\n",
       "      <td>0</td>\n",
       "      <td>1</td>\n",
       "      <td>187</td>\n",
       "      <td>0</td>\n",
       "      <td>3.5</td>\n",
       "      <td>0</td>\n",
       "      <td>0</td>\n",
       "      <td>2</td>\n",
       "      <td>1</td>\n",
       "    </tr>\n",
       "    <tr>\n",
       "      <th>2</th>\n",
       "      <td>41</td>\n",
       "      <td>0</td>\n",
       "      <td>1</td>\n",
       "      <td>130</td>\n",
       "      <td>204</td>\n",
       "      <td>0</td>\n",
       "      <td>0</td>\n",
       "      <td>172</td>\n",
       "      <td>0</td>\n",
       "      <td>1.4</td>\n",
       "      <td>2</td>\n",
       "      <td>0</td>\n",
       "      <td>2</td>\n",
       "      <td>1</td>\n",
       "    </tr>\n",
       "    <tr>\n",
       "      <th>3</th>\n",
       "      <td>56</td>\n",
       "      <td>1</td>\n",
       "      <td>1</td>\n",
       "      <td>120</td>\n",
       "      <td>236</td>\n",
       "      <td>0</td>\n",
       "      <td>1</td>\n",
       "      <td>178</td>\n",
       "      <td>0</td>\n",
       "      <td>0.8</td>\n",
       "      <td>2</td>\n",
       "      <td>0</td>\n",
       "      <td>2</td>\n",
       "      <td>1</td>\n",
       "    </tr>\n",
       "    <tr>\n",
       "      <th>4</th>\n",
       "      <td>57</td>\n",
       "      <td>0</td>\n",
       "      <td>0</td>\n",
       "      <td>120</td>\n",
       "      <td>354</td>\n",
       "      <td>0</td>\n",
       "      <td>1</td>\n",
       "      <td>163</td>\n",
       "      <td>1</td>\n",
       "      <td>0.6</td>\n",
       "      <td>2</td>\n",
       "      <td>0</td>\n",
       "      <td>2</td>\n",
       "      <td>1</td>\n",
       "    </tr>\n",
       "  </tbody>\n",
       "</table>\n",
       "</div>"
      ],
      "text/plain": [
       "   age  sex  cp  trestbps  chol  fbs  restecg  thalach  exang  oldpeak  slope  \\\n",
       "0   63    1   3       145   233    1        0      150      0      2.3      0   \n",
       "1   37    1   2       130   250    0        1      187      0      3.5      0   \n",
       "2   41    0   1       130   204    0        0      172      0      1.4      2   \n",
       "3   56    1   1       120   236    0        1      178      0      0.8      2   \n",
       "4   57    0   0       120   354    0        1      163      1      0.6      2   \n",
       "\n",
       "   ca  thal  target  \n",
       "0   0     1       1  \n",
       "1   0     2       1  \n",
       "2   0     2       1  \n",
       "3   0     2       1  \n",
       "4   0     2       1  "
      ]
     },
     "execution_count": 3,
     "metadata": {},
     "output_type": "execute_result"
    }
   ],
   "source": [
    "data.head()"
   ]
  },
  {
   "cell_type": "code",
   "execution_count": 4,
   "id": "3992b8b9",
   "metadata": {},
   "outputs": [
    {
     "data": {
      "text/html": [
       "<div>\n",
       "<style scoped>\n",
       "    .dataframe tbody tr th:only-of-type {\n",
       "        vertical-align: middle;\n",
       "    }\n",
       "\n",
       "    .dataframe tbody tr th {\n",
       "        vertical-align: top;\n",
       "    }\n",
       "\n",
       "    .dataframe thead th {\n",
       "        text-align: right;\n",
       "    }\n",
       "</style>\n",
       "<table border=\"1\" class=\"dataframe\">\n",
       "  <thead>\n",
       "    <tr style=\"text-align: right;\">\n",
       "      <th></th>\n",
       "      <th>age</th>\n",
       "      <th>sex</th>\n",
       "      <th>cp</th>\n",
       "      <th>trestbps</th>\n",
       "      <th>chol</th>\n",
       "      <th>fbs</th>\n",
       "      <th>restecg</th>\n",
       "      <th>thalach</th>\n",
       "      <th>exang</th>\n",
       "      <th>oldpeak</th>\n",
       "      <th>slope</th>\n",
       "      <th>ca</th>\n",
       "      <th>thal</th>\n",
       "      <th>target</th>\n",
       "    </tr>\n",
       "  </thead>\n",
       "  <tbody>\n",
       "    <tr>\n",
       "      <th>298</th>\n",
       "      <td>57</td>\n",
       "      <td>0</td>\n",
       "      <td>0</td>\n",
       "      <td>140</td>\n",
       "      <td>241</td>\n",
       "      <td>0</td>\n",
       "      <td>1</td>\n",
       "      <td>123</td>\n",
       "      <td>1</td>\n",
       "      <td>0.2</td>\n",
       "      <td>1</td>\n",
       "      <td>0</td>\n",
       "      <td>3</td>\n",
       "      <td>0</td>\n",
       "    </tr>\n",
       "    <tr>\n",
       "      <th>299</th>\n",
       "      <td>45</td>\n",
       "      <td>1</td>\n",
       "      <td>3</td>\n",
       "      <td>110</td>\n",
       "      <td>264</td>\n",
       "      <td>0</td>\n",
       "      <td>1</td>\n",
       "      <td>132</td>\n",
       "      <td>0</td>\n",
       "      <td>1.2</td>\n",
       "      <td>1</td>\n",
       "      <td>0</td>\n",
       "      <td>3</td>\n",
       "      <td>0</td>\n",
       "    </tr>\n",
       "    <tr>\n",
       "      <th>300</th>\n",
       "      <td>68</td>\n",
       "      <td>1</td>\n",
       "      <td>0</td>\n",
       "      <td>144</td>\n",
       "      <td>193</td>\n",
       "      <td>1</td>\n",
       "      <td>1</td>\n",
       "      <td>141</td>\n",
       "      <td>0</td>\n",
       "      <td>3.4</td>\n",
       "      <td>1</td>\n",
       "      <td>2</td>\n",
       "      <td>3</td>\n",
       "      <td>0</td>\n",
       "    </tr>\n",
       "    <tr>\n",
       "      <th>301</th>\n",
       "      <td>57</td>\n",
       "      <td>1</td>\n",
       "      <td>0</td>\n",
       "      <td>130</td>\n",
       "      <td>131</td>\n",
       "      <td>0</td>\n",
       "      <td>1</td>\n",
       "      <td>115</td>\n",
       "      <td>1</td>\n",
       "      <td>1.2</td>\n",
       "      <td>1</td>\n",
       "      <td>1</td>\n",
       "      <td>3</td>\n",
       "      <td>0</td>\n",
       "    </tr>\n",
       "    <tr>\n",
       "      <th>302</th>\n",
       "      <td>57</td>\n",
       "      <td>0</td>\n",
       "      <td>1</td>\n",
       "      <td>130</td>\n",
       "      <td>236</td>\n",
       "      <td>0</td>\n",
       "      <td>0</td>\n",
       "      <td>174</td>\n",
       "      <td>0</td>\n",
       "      <td>0.0</td>\n",
       "      <td>1</td>\n",
       "      <td>1</td>\n",
       "      <td>2</td>\n",
       "      <td>0</td>\n",
       "    </tr>\n",
       "  </tbody>\n",
       "</table>\n",
       "</div>"
      ],
      "text/plain": [
       "     age  sex  cp  trestbps  chol  fbs  restecg  thalach  exang  oldpeak  \\\n",
       "298   57    0   0       140   241    0        1      123      1      0.2   \n",
       "299   45    1   3       110   264    0        1      132      0      1.2   \n",
       "300   68    1   0       144   193    1        1      141      0      3.4   \n",
       "301   57    1   0       130   131    0        1      115      1      1.2   \n",
       "302   57    0   1       130   236    0        0      174      0      0.0   \n",
       "\n",
       "     slope  ca  thal  target  \n",
       "298      1   0     3       0  \n",
       "299      1   0     3       0  \n",
       "300      1   2     3       0  \n",
       "301      1   1     3       0  \n",
       "302      1   1     2       0  "
      ]
     },
     "execution_count": 4,
     "metadata": {},
     "output_type": "execute_result"
    }
   ],
   "source": [
    "data.tail()"
   ]
  },
  {
   "cell_type": "code",
   "execution_count": 5,
   "id": "aea8ab82",
   "metadata": {},
   "outputs": [
    {
     "name": "stdout",
     "output_type": "stream",
     "text": [
      "<class 'pandas.core.frame.DataFrame'>\n",
      "RangeIndex: 303 entries, 0 to 302\n",
      "Data columns (total 14 columns):\n",
      " #   Column    Non-Null Count  Dtype  \n",
      "---  ------    --------------  -----  \n",
      " 0   age       303 non-null    int64  \n",
      " 1   sex       303 non-null    int64  \n",
      " 2   cp        303 non-null    int64  \n",
      " 3   trestbps  303 non-null    int64  \n",
      " 4   chol      303 non-null    int64  \n",
      " 5   fbs       303 non-null    int64  \n",
      " 6   restecg   303 non-null    int64  \n",
      " 7   thalach   303 non-null    int64  \n",
      " 8   exang     303 non-null    int64  \n",
      " 9   oldpeak   303 non-null    float64\n",
      " 10  slope     303 non-null    int64  \n",
      " 11  ca        303 non-null    int64  \n",
      " 12  thal      303 non-null    int64  \n",
      " 13  target    303 non-null    int64  \n",
      "dtypes: float64(1), int64(13)\n",
      "memory usage: 33.3 KB\n"
     ]
    }
   ],
   "source": [
    "data.info()"
   ]
  },
  {
   "cell_type": "code",
   "execution_count": 6,
   "id": "3036fad5",
   "metadata": {},
   "outputs": [
    {
     "data": {
      "text/html": [
       "<div>\n",
       "<style scoped>\n",
       "    .dataframe tbody tr th:only-of-type {\n",
       "        vertical-align: middle;\n",
       "    }\n",
       "\n",
       "    .dataframe tbody tr th {\n",
       "        vertical-align: top;\n",
       "    }\n",
       "\n",
       "    .dataframe thead th {\n",
       "        text-align: right;\n",
       "    }\n",
       "</style>\n",
       "<table border=\"1\" class=\"dataframe\">\n",
       "  <thead>\n",
       "    <tr style=\"text-align: right;\">\n",
       "      <th></th>\n",
       "      <th>age</th>\n",
       "      <th>sex</th>\n",
       "      <th>cp</th>\n",
       "      <th>trestbps</th>\n",
       "      <th>chol</th>\n",
       "      <th>fbs</th>\n",
       "      <th>restecg</th>\n",
       "      <th>thalach</th>\n",
       "      <th>exang</th>\n",
       "      <th>oldpeak</th>\n",
       "      <th>slope</th>\n",
       "      <th>ca</th>\n",
       "      <th>thal</th>\n",
       "      <th>target</th>\n",
       "    </tr>\n",
       "  </thead>\n",
       "  <tbody>\n",
       "    <tr>\n",
       "      <th>count</th>\n",
       "      <td>303.000000</td>\n",
       "      <td>303.000000</td>\n",
       "      <td>303.000000</td>\n",
       "      <td>303.000000</td>\n",
       "      <td>303.000000</td>\n",
       "      <td>303.000000</td>\n",
       "      <td>303.000000</td>\n",
       "      <td>303.000000</td>\n",
       "      <td>303.000000</td>\n",
       "      <td>303.000000</td>\n",
       "      <td>303.000000</td>\n",
       "      <td>303.000000</td>\n",
       "      <td>303.000000</td>\n",
       "      <td>303.000000</td>\n",
       "    </tr>\n",
       "    <tr>\n",
       "      <th>mean</th>\n",
       "      <td>54.366337</td>\n",
       "      <td>0.683168</td>\n",
       "      <td>0.966997</td>\n",
       "      <td>131.623762</td>\n",
       "      <td>246.264026</td>\n",
       "      <td>0.148515</td>\n",
       "      <td>0.528053</td>\n",
       "      <td>149.646865</td>\n",
       "      <td>0.326733</td>\n",
       "      <td>1.039604</td>\n",
       "      <td>1.399340</td>\n",
       "      <td>0.729373</td>\n",
       "      <td>2.313531</td>\n",
       "      <td>0.544554</td>\n",
       "    </tr>\n",
       "    <tr>\n",
       "      <th>std</th>\n",
       "      <td>9.082101</td>\n",
       "      <td>0.466011</td>\n",
       "      <td>1.032052</td>\n",
       "      <td>17.538143</td>\n",
       "      <td>51.830751</td>\n",
       "      <td>0.356198</td>\n",
       "      <td>0.525860</td>\n",
       "      <td>22.905161</td>\n",
       "      <td>0.469794</td>\n",
       "      <td>1.161075</td>\n",
       "      <td>0.616226</td>\n",
       "      <td>1.022606</td>\n",
       "      <td>0.612277</td>\n",
       "      <td>0.498835</td>\n",
       "    </tr>\n",
       "    <tr>\n",
       "      <th>min</th>\n",
       "      <td>29.000000</td>\n",
       "      <td>0.000000</td>\n",
       "      <td>0.000000</td>\n",
       "      <td>94.000000</td>\n",
       "      <td>126.000000</td>\n",
       "      <td>0.000000</td>\n",
       "      <td>0.000000</td>\n",
       "      <td>71.000000</td>\n",
       "      <td>0.000000</td>\n",
       "      <td>0.000000</td>\n",
       "      <td>0.000000</td>\n",
       "      <td>0.000000</td>\n",
       "      <td>0.000000</td>\n",
       "      <td>0.000000</td>\n",
       "    </tr>\n",
       "    <tr>\n",
       "      <th>25%</th>\n",
       "      <td>47.500000</td>\n",
       "      <td>0.000000</td>\n",
       "      <td>0.000000</td>\n",
       "      <td>120.000000</td>\n",
       "      <td>211.000000</td>\n",
       "      <td>0.000000</td>\n",
       "      <td>0.000000</td>\n",
       "      <td>133.500000</td>\n",
       "      <td>0.000000</td>\n",
       "      <td>0.000000</td>\n",
       "      <td>1.000000</td>\n",
       "      <td>0.000000</td>\n",
       "      <td>2.000000</td>\n",
       "      <td>0.000000</td>\n",
       "    </tr>\n",
       "    <tr>\n",
       "      <th>50%</th>\n",
       "      <td>55.000000</td>\n",
       "      <td>1.000000</td>\n",
       "      <td>1.000000</td>\n",
       "      <td>130.000000</td>\n",
       "      <td>240.000000</td>\n",
       "      <td>0.000000</td>\n",
       "      <td>1.000000</td>\n",
       "      <td>153.000000</td>\n",
       "      <td>0.000000</td>\n",
       "      <td>0.800000</td>\n",
       "      <td>1.000000</td>\n",
       "      <td>0.000000</td>\n",
       "      <td>2.000000</td>\n",
       "      <td>1.000000</td>\n",
       "    </tr>\n",
       "    <tr>\n",
       "      <th>75%</th>\n",
       "      <td>61.000000</td>\n",
       "      <td>1.000000</td>\n",
       "      <td>2.000000</td>\n",
       "      <td>140.000000</td>\n",
       "      <td>274.500000</td>\n",
       "      <td>0.000000</td>\n",
       "      <td>1.000000</td>\n",
       "      <td>166.000000</td>\n",
       "      <td>1.000000</td>\n",
       "      <td>1.600000</td>\n",
       "      <td>2.000000</td>\n",
       "      <td>1.000000</td>\n",
       "      <td>3.000000</td>\n",
       "      <td>1.000000</td>\n",
       "    </tr>\n",
       "    <tr>\n",
       "      <th>max</th>\n",
       "      <td>77.000000</td>\n",
       "      <td>1.000000</td>\n",
       "      <td>3.000000</td>\n",
       "      <td>200.000000</td>\n",
       "      <td>564.000000</td>\n",
       "      <td>1.000000</td>\n",
       "      <td>2.000000</td>\n",
       "      <td>202.000000</td>\n",
       "      <td>1.000000</td>\n",
       "      <td>6.200000</td>\n",
       "      <td>2.000000</td>\n",
       "      <td>4.000000</td>\n",
       "      <td>3.000000</td>\n",
       "      <td>1.000000</td>\n",
       "    </tr>\n",
       "  </tbody>\n",
       "</table>\n",
       "</div>"
      ],
      "text/plain": [
       "              age         sex          cp    trestbps        chol         fbs  \\\n",
       "count  303.000000  303.000000  303.000000  303.000000  303.000000  303.000000   \n",
       "mean    54.366337    0.683168    0.966997  131.623762  246.264026    0.148515   \n",
       "std      9.082101    0.466011    1.032052   17.538143   51.830751    0.356198   \n",
       "min     29.000000    0.000000    0.000000   94.000000  126.000000    0.000000   \n",
       "25%     47.500000    0.000000    0.000000  120.000000  211.000000    0.000000   \n",
       "50%     55.000000    1.000000    1.000000  130.000000  240.000000    0.000000   \n",
       "75%     61.000000    1.000000    2.000000  140.000000  274.500000    0.000000   \n",
       "max     77.000000    1.000000    3.000000  200.000000  564.000000    1.000000   \n",
       "\n",
       "          restecg     thalach       exang     oldpeak       slope          ca  \\\n",
       "count  303.000000  303.000000  303.000000  303.000000  303.000000  303.000000   \n",
       "mean     0.528053  149.646865    0.326733    1.039604    1.399340    0.729373   \n",
       "std      0.525860   22.905161    0.469794    1.161075    0.616226    1.022606   \n",
       "min      0.000000   71.000000    0.000000    0.000000    0.000000    0.000000   \n",
       "25%      0.000000  133.500000    0.000000    0.000000    1.000000    0.000000   \n",
       "50%      1.000000  153.000000    0.000000    0.800000    1.000000    0.000000   \n",
       "75%      1.000000  166.000000    1.000000    1.600000    2.000000    1.000000   \n",
       "max      2.000000  202.000000    1.000000    6.200000    2.000000    4.000000   \n",
       "\n",
       "             thal      target  \n",
       "count  303.000000  303.000000  \n",
       "mean     2.313531    0.544554  \n",
       "std      0.612277    0.498835  \n",
       "min      0.000000    0.000000  \n",
       "25%      2.000000    0.000000  \n",
       "50%      2.000000    1.000000  \n",
       "75%      3.000000    1.000000  \n",
       "max      3.000000    1.000000  "
      ]
     },
     "execution_count": 6,
     "metadata": {},
     "output_type": "execute_result"
    }
   ],
   "source": [
    "data.describe()"
   ]
  },
  {
   "cell_type": "code",
   "execution_count": 7,
   "id": "c9322606",
   "metadata": {},
   "outputs": [
    {
     "data": {
      "text/plain": [
       "age         0\n",
       "sex         0\n",
       "cp          0\n",
       "trestbps    0\n",
       "chol        0\n",
       "fbs         0\n",
       "restecg     0\n",
       "thalach     0\n",
       "exang       0\n",
       "oldpeak     0\n",
       "slope       0\n",
       "ca          0\n",
       "thal        0\n",
       "target      0\n",
       "dtype: int64"
      ]
     },
     "execution_count": 7,
     "metadata": {},
     "output_type": "execute_result"
    }
   ],
   "source": [
    "#checking for null values\n",
    "data.isnull().sum()"
   ]
  },
  {
   "cell_type": "code",
   "execution_count": 8,
   "id": "ae067d31",
   "metadata": {},
   "outputs": [
    {
     "data": {
      "text/plain": [
       "<AxesSubplot:xlabel='sex', ylabel='count'>"
      ]
     },
     "execution_count": 8,
     "metadata": {},
     "output_type": "execute_result"
    },
    {
     "data": {
      "image/png": "[encoded data removed]",
      "text/plain": [
       "<Figure size 432x288 with 1 Axes>"
      ]
     },
     "metadata": {
      "needs_background": "light"
     },
     "output_type": "display_data"
    }
   ],
   "source": [
    "#plotting the sex variable\n",
    "sb.countplot(x='sex',data=data)"
   ]
  },
  {
   "cell_type": "code",
   "execution_count": 9,
   "id": "758b31d4",
   "metadata": {},
   "outputs": [
    {
     "data": {
      "text/plain": [
       "<AxesSubplot:xlabel='target', ylabel='count'>"
      ]
     },
     "execution_count": 9,
     "metadata": {},
     "output_type": "execute_result"
    },
    {
     "data": {
      "image/png": "[encoded data removed]",
      "text/plain": [
       "<Figure size 432x288 with 1 Axes>"
      ]
     },
     "metadata": {
      "needs_background": "light"
     },
     "output_type": "display_data"
    }
   ],
   "source": [
    "#plotting the target variable\n",
    "sb.countplot(x='target',data=data)"
   ]
  },
  {
   "cell_type": "code",
   "execution_count": null,
   "id": "89fd9977",
   "metadata": {},
   "outputs": [
    {
     "ename": "",
     "evalue": "",
     "output_type": "error",
     "traceback": [
      "\u001b[1;31mRunning cells with 'Python 3.9.10 64-bit' requires ipykernel package.\n",
      "Run the following command to install 'ipykernel' into the Python environment. \n",
      "Command: '\"c:/Users/Mohamoad Kaif/AppData/Local/Programs/Python/Python39/python.exe\" -m pip install ipykernel -U --user --force-reinstall'"
     ]
    }
   ],
   "source": [
    "plt.figure(figsize=(15,10))\n",
    "sb.countplot(x='age',data=data)"
   ]
  },
  {
   "cell_type": "code",
   "execution_count": 11,
   "id": "c7fb2fcb",
   "metadata": {},
   "outputs": [
    {
     "data": {
      "text/plain": [
       "<AxesSubplot:>"
      ]
     },
     "execution_count": 11,
     "metadata": {},
     "output_type": "execute_result"
    },
    {
     "data": {
      "image/png": "[encoded data removed]",
      "text/plain": [
       "<Figure size 1080x720 with 2 Axes>"
      ]
     },
     "metadata": {
      "needs_background": "light"
     },
     "output_type": "display_data"
    }
   ],
   "source": [
    "#getting correlations of every feature in the dataset\n",
    "corr_mat=data.corr()\n",
    "plt.figure(figsize=(15,10))\n",
    "sb.heatmap(corr_mat,annot=True)"
   ]
  },
  {
   "cell_type": "code",
   "execution_count": 12,
   "id": "8980a9f1",
   "metadata": {},
   "outputs": [
    {
     "data": {
      "image/png": "[encoded data removed]",
      "text/plain": [
       "<Figure size 1080x1080 with 16 Axes>"
      ]
     },
     "metadata": {
      "needs_background": "light"
     },
     "output_type": "display_data"
    }
   ],
   "source": [
    "#plotting histogram for each column\n",
    "data.hist(figsize=(15,15))\n",
    "plt.show()"
   ]
  },
  {
   "cell_type": "code",
   "execution_count": 13,
   "id": "1608aab8",
   "metadata": {},
   "outputs": [],
   "source": [
    "x=data.drop(columns=['target'])"
   ]
  },
  {
   "cell_type": "code",
   "execution_count": 14,
   "id": "90a09b98",
   "metadata": {
    "scrolled": true
   },
   "outputs": [
    {
     "data": {
      "text/html": [
       "<div>\n",
       "<style scoped>\n",
       "    .dataframe tbody tr th:only-of-type {\n",
       "        vertical-align: middle;\n",
       "    }\n",
       "\n",
       "    .dataframe tbody tr th {\n",
       "        vertical-align: top;\n",
       "    }\n",
       "\n",
       "    .dataframe thead th {\n",
       "        text-align: right;\n",
       "    }\n",
       "</style>\n",
       "<table border=\"1\" class=\"dataframe\">\n",
       "  <thead>\n",
       "    <tr style=\"text-align: right;\">\n",
       "      <th></th>\n",
       "      <th>age</th>\n",
       "      <th>sex</th>\n",
       "      <th>cp</th>\n",
       "      <th>trestbps</th>\n",
       "      <th>chol</th>\n",
       "      <th>fbs</th>\n",
       "      <th>restecg</th>\n",
       "      <th>thalach</th>\n",
       "      <th>exang</th>\n",
       "      <th>oldpeak</th>\n",
       "      <th>slope</th>\n",
       "      <th>ca</th>\n",
       "      <th>thal</th>\n",
       "    </tr>\n",
       "  </thead>\n",
       "  <tbody>\n",
       "    <tr>\n",
       "      <th>0</th>\n",
       "      <td>63</td>\n",
       "      <td>1</td>\n",
       "      <td>3</td>\n",
       "      <td>145</td>\n",
       "      <td>233</td>\n",
       "      <td>1</td>\n",
       "      <td>0</td>\n",
       "      <td>150</td>\n",
       "      <td>0</td>\n",
       "      <td>2.3</td>\n",
       "      <td>0</td>\n",
       "      <td>0</td>\n",
       "      <td>1</td>\n",
       "    </tr>\n",
       "    <tr>\n",
       "      <th>1</th>\n",
       "      <td>37</td>\n",
       "      <td>1</td>\n",
       "      <td>2</td>\n",
       "      <td>130</td>\n",
       "      <td>250</td>\n",
       "      <td>0</td>\n",
       "      <td>1</td>\n",
       "      <td>187</td>\n",
       "      <td>0</td>\n",
       "      <td>3.5</td>\n",
       "      <td>0</td>\n",
       "      <td>0</td>\n",
       "      <td>2</td>\n",
       "    </tr>\n",
       "    <tr>\n",
       "      <th>2</th>\n",
       "      <td>41</td>\n",
       "      <td>0</td>\n",
       "      <td>1</td>\n",
       "      <td>130</td>\n",
       "      <td>204</td>\n",
       "      <td>0</td>\n",
       "      <td>0</td>\n",
       "      <td>172</td>\n",
       "      <td>0</td>\n",
       "      <td>1.4</td>\n",
       "      <td>2</td>\n",
       "      <td>0</td>\n",
       "      <td>2</td>\n",
       "    </tr>\n",
       "    <tr>\n",
       "      <th>3</th>\n",
       "      <td>56</td>\n",
       "      <td>1</td>\n",
       "      <td>1</td>\n",
       "      <td>120</td>\n",
       "      <td>236</td>\n",
       "      <td>0</td>\n",
       "      <td>1</td>\n",
       "      <td>178</td>\n",
       "      <td>0</td>\n",
       "      <td>0.8</td>\n",
       "      <td>2</td>\n",
       "      <td>0</td>\n",
       "      <td>2</td>\n",
       "    </tr>\n",
       "    <tr>\n",
       "      <th>4</th>\n",
       "      <td>57</td>\n",
       "      <td>0</td>\n",
       "      <td>0</td>\n",
       "      <td>120</td>\n",
       "      <td>354</td>\n",
       "      <td>0</td>\n",
       "      <td>1</td>\n",
       "      <td>163</td>\n",
       "      <td>1</td>\n",
       "      <td>0.6</td>\n",
       "      <td>2</td>\n",
       "      <td>0</td>\n",
       "      <td>2</td>\n",
       "    </tr>\n",
       "    <tr>\n",
       "      <th>...</th>\n",
       "      <td>...</td>\n",
       "      <td>...</td>\n",
       "      <td>...</td>\n",
       "      <td>...</td>\n",
       "      <td>...</td>\n",
       "      <td>...</td>\n",
       "      <td>...</td>\n",
       "      <td>...</td>\n",
       "      <td>...</td>\n",
       "      <td>...</td>\n",
       "      <td>...</td>\n",
       "      <td>...</td>\n",
       "      <td>...</td>\n",
       "    </tr>\n",
       "    <tr>\n",
       "      <th>298</th>\n",
       "      <td>57</td>\n",
       "      <td>0</td>\n",
       "      <td>0</td>\n",
       "      <td>140</td>\n",
       "      <td>241</td>\n",
       "      <td>0</td>\n",
       "      <td>1</td>\n",
       "      <td>123</td>\n",
       "      <td>1</td>\n",
       "      <td>0.2</td>\n",
       "      <td>1</td>\n",
       "      <td>0</td>\n",
       "      <td>3</td>\n",
       "    </tr>\n",
       "    <tr>\n",
       "      <th>299</th>\n",
       "      <td>45</td>\n",
       "      <td>1</td>\n",
       "      <td>3</td>\n",
       "      <td>110</td>\n",
       "      <td>264</td>\n",
       "      <td>0</td>\n",
       "      <td>1</td>\n",
       "      <td>132</td>\n",
       "      <td>0</td>\n",
       "      <td>1.2</td>\n",
       "      <td>1</td>\n",
       "      <td>0</td>\n",
       "      <td>3</td>\n",
       "    </tr>\n",
       "    <tr>\n",
       "      <th>300</th>\n",
       "      <td>68</td>\n",
       "      <td>1</td>\n",
       "      <td>0</td>\n",
       "      <td>144</td>\n",
       "      <td>193</td>\n",
       "      <td>1</td>\n",
       "      <td>1</td>\n",
       "      <td>141</td>\n",
       "      <td>0</td>\n",
       "      <td>3.4</td>\n",
       "      <td>1</td>\n",
       "      <td>2</td>\n",
       "      <td>3</td>\n",
       "    </tr>\n",
       "    <tr>\n",
       "      <th>301</th>\n",
       "      <td>57</td>\n",
       "      <td>1</td>\n",
       "      <td>0</td>\n",
       "      <td>130</td>\n",
       "      <td>131</td>\n",
       "      <td>0</td>\n",
       "      <td>1</td>\n",
       "      <td>115</td>\n",
       "      <td>1</td>\n",
       "      <td>1.2</td>\n",
       "      <td>1</td>\n",
       "      <td>1</td>\n",
       "      <td>3</td>\n",
       "    </tr>\n",
       "    <tr>\n",
       "      <th>302</th>\n",
       "      <td>57</td>\n",
       "      <td>0</td>\n",
       "      <td>1</td>\n",
       "      <td>130</td>\n",
       "      <td>236</td>\n",
       "      <td>0</td>\n",
       "      <td>0</td>\n",
       "      <td>174</td>\n",
       "      <td>0</td>\n",
       "      <td>0.0</td>\n",
       "      <td>1</td>\n",
       "      <td>1</td>\n",
       "      <td>2</td>\n",
       "    </tr>\n",
       "  </tbody>\n",
       "</table>\n",
       "<p>303 rows × 13 columns</p>\n",
       "</div>"
      ],
      "text/plain": [
       "     age  sex  cp  trestbps  chol  fbs  restecg  thalach  exang  oldpeak  \\\n",
       "0     63    1   3       145   233    1        0      150      0      2.3   \n",
       "1     37    1   2       130   250    0        1      187      0      3.5   \n",
       "2     41    0   1       130   204    0        0      172      0      1.4   \n",
       "3     56    1   1       120   236    0        1      178      0      0.8   \n",
       "4     57    0   0       120   354    0        1      163      1      0.6   \n",
       "..   ...  ...  ..       ...   ...  ...      ...      ...    ...      ...   \n",
       "298   57    0   0       140   241    0        1      123      1      0.2   \n",
       "299   45    1   3       110   264    0        1      132      0      1.2   \n",
       "300   68    1   0       144   193    1        1      141      0      3.4   \n",
       "301   57    1   0       130   131    0        1      115      1      1.2   \n",
       "302   57    0   1       130   236    0        0      174      0      0.0   \n",
       "\n",
       "     slope  ca  thal  \n",
       "0        0   0     1  \n",
       "1        0   0     2  \n",
       "2        2   0     2  \n",
       "3        2   0     2  \n",
       "4        2   0     2  \n",
       "..     ...  ..   ...  \n",
       "298      1   0     3  \n",
       "299      1   0     3  \n",
       "300      1   2     3  \n",
       "301      1   1     3  \n",
       "302      1   1     2  \n",
       "\n",
       "[303 rows x 13 columns]"
      ]
     },
     "execution_count": 14,
     "metadata": {},
     "output_type": "execute_result"
    }
   ],
   "source": [
    "x"
   ]
  },
  {
   "cell_type": "code",
   "execution_count": 15,
   "id": "1f645a16",
   "metadata": {},
   "outputs": [],
   "source": [
    "y=data['target']"
   ]
  },
  {
   "cell_type": "code",
   "execution_count": 16,
   "id": "c90c421e",
   "metadata": {},
   "outputs": [
    {
     "data": {
      "text/plain": [
       "0      1\n",
       "1      1\n",
       "2      1\n",
       "3      1\n",
       "4      1\n",
       "      ..\n",
       "298    0\n",
       "299    0\n",
       "300    0\n",
       "301    0\n",
       "302    0\n",
       "Name: target, Length: 303, dtype: int64"
      ]
     },
     "execution_count": 16,
     "metadata": {},
     "output_type": "execute_result"
    }
   ],
   "source": [
    "y"
   ]
  },
  {
   "cell_type": "markdown",
   "id": "31105d16",
   "metadata": {},
   "source": [
    "# Splitting the data into training and testing data"
   ]
  },
  {
   "cell_type": "code",
   "execution_count": 17,
   "id": "488ce034",
   "metadata": {},
   "outputs": [],
   "source": [
    "from sklearn.model_selection import train_test_split\n",
    "x_train,x_test,y_train,y_test=train_test_split(x,y,test_size=0.2,random_state=2)"
   ]
  },
  {
   "cell_type": "code",
   "execution_count": 18,
   "id": "57db76fe",
   "metadata": {},
   "outputs": [
    {
     "data": {
      "text/plain": [
       "(242, 13)"
      ]
     },
     "execution_count": 18,
     "metadata": {},
     "output_type": "execute_result"
    }
   ],
   "source": [
    "x_train.shape"
   ]
  },
  {
   "cell_type": "code",
   "execution_count": 19,
   "id": "813fcf58",
   "metadata": {},
   "outputs": [
    {
     "data": {
      "text/plain": [
       "(61, 13)"
      ]
     },
     "execution_count": 19,
     "metadata": {},
     "output_type": "execute_result"
    }
   ],
   "source": [
    "x_test.shape"
   ]
  },
  {
   "cell_type": "code",
   "execution_count": 20,
   "id": "1d51c67e",
   "metadata": {},
   "outputs": [
    {
     "data": {
      "text/plain": [
       "(242,)"
      ]
     },
     "execution_count": 20,
     "metadata": {},
     "output_type": "execute_result"
    }
   ],
   "source": [
    "y_train.shape"
   ]
  },
  {
   "cell_type": "code",
   "execution_count": 21,
   "id": "314c55d3",
   "metadata": {},
   "outputs": [
    {
     "data": {
      "text/plain": [
       "(61,)"
      ]
     },
     "execution_count": 21,
     "metadata": {},
     "output_type": "execute_result"
    }
   ],
   "source": [
    "y_test.shape"
   ]
  },
  {
   "cell_type": "markdown",
   "id": "e89d0f7b",
   "metadata": {},
   "source": [
    "# Feature Scaling"
   ]
  },
  {
   "cell_type": "code",
   "execution_count": 22,
   "id": "ac127cea",
   "metadata": {},
   "outputs": [],
   "source": [
    "from sklearn.preprocessing import MinMaxScaler\n",
    "s=MinMaxScaler()"
   ]
  },
  {
   "cell_type": "code",
   "execution_count": 23,
   "id": "19c73834",
   "metadata": {},
   "outputs": [],
   "source": [
    "x_train=s.fit_transform(x_train)"
   ]
  },
  {
   "cell_type": "code",
   "execution_count": 24,
   "id": "1b9d89a1",
   "metadata": {},
   "outputs": [
    {
     "data": {
      "text/plain": [
       "array([[0.64583333, 1.        , 0.        , ..., 0.5       , 0.5       ,\n",
       "        1.        ],\n",
       "       [0.83333333, 1.        , 1.        , ..., 0.5       , 0.25      ,\n",
       "        0.66666667],\n",
       "       [0.52083333, 1.        , 0.        , ..., 1.        , 0.        ,\n",
       "        0.66666667],\n",
       "       ...,\n",
       "       [0.        , 1.        , 0.33333333, ..., 1.        , 0.        ,\n",
       "        0.66666667],\n",
       "       [0.4375    , 0.        , 0.66666667, ..., 0.5       , 0.        ,\n",
       "        0.66666667],\n",
       "       [0.70833333, 1.        , 0.        , ..., 0.5       , 0.25      ,\n",
       "        1.        ]])"
      ]
     },
     "execution_count": 24,
     "metadata": {},
     "output_type": "execute_result"
    }
   ],
   "source": [
    "x_train"
   ]
  },
  {
   "cell_type": "code",
   "execution_count": 25,
   "id": "23ed5aa1",
   "metadata": {},
   "outputs": [],
   "source": [
    "x_test=s.transform(x_test)"
   ]
  },
  {
   "cell_type": "code",
   "execution_count": 26,
   "id": "3372aa1b",
   "metadata": {},
   "outputs": [
    {
     "data": {
      "text/plain": [
       "array([[0.5       , 1.        , 0.66666667, 0.33962264, 0.2739726 ,\n",
       "        1.        , 0.        , 0.77862595, 0.        , 0.        ,\n",
       "        1.        , 0.75      , 0.66666667],\n",
       "       [0.70833333, 0.        , 0.        , 0.28301887, 0.16210046,\n",
       "        0.        , 0.5       , 0.49618321, 1.        , 0.        ,\n",
       "        0.5       , 0.        , 0.66666667],\n",
       "       [0.60416667, 0.        , 0.        , 0.05660377, 0.27853881,\n",
       "        0.        , 0.        , 0.38931298, 0.        , 0.16129032,\n",
       "        0.5       , 0.        , 0.66666667],\n",
       "       [0.25      , 0.        , 0.33333333, 0.10377358, 0.16438356,\n",
       "        0.        , 0.5       , 0.74045802, 0.        , 0.        ,\n",
       "        1.        , 0.25      , 0.66666667],\n",
       "       [0.85416667, 1.        , 0.        , 0.33962264, 0.44748858,\n",
       "        0.        , 0.        , 0.29007634, 0.        , 0.38709677,\n",
       "        0.5       , 0.75      , 0.66666667],\n",
       "       [0.60416667, 0.        , 0.        , 0.71698113, 0.2260274 ,\n",
       "        1.        , 0.        , 0.57251908, 1.        , 0.4516129 ,\n",
       "        0.5       , 0.5       , 0.33333333],\n",
       "       [0.35416667, 0.        , 0.66666667, 0.45283019, 0.11643836,\n",
       "        0.        , 0.        , 0.67938931, 1.        , 0.22580645,\n",
       "        0.        , 0.        , 0.66666667],\n",
       "       [0.3125    , 1.        , 0.33333333, 0.24528302, 0.31278539,\n",
       "        0.        , 0.5       , 0.77862595, 0.        , 0.        ,\n",
       "        1.        , 0.        , 1.        ],\n",
       "       [0.29166667, 1.        , 0.        , 0.24528302, 0.11643836,\n",
       "        0.        , 0.        , 0.3740458 , 1.        , 0.40322581,\n",
       "        0.5       , 0.        , 1.        ],\n",
       "       [0.72916667, 1.        , 1.        , 0.1509434 , 0.19406393,\n",
       "        0.        , 0.        , 0.55725191, 1.        , 0.29032258,\n",
       "        0.5       , 0.        , 0.66666667],\n",
       "       [0.85416667, 1.        , 0.66666667, 0.62264151, 0.32648402,\n",
       "        0.        , 0.5       , 0.3129771 , 1.        , 0.46774194,\n",
       "        0.5       , 0.25      , 1.        ],\n",
       "       [0.125     , 0.        , 0.        , 0.41509434, 0.13013699,\n",
       "        0.        , 0.5       , 0.84732824, 0.        , 0.22580645,\n",
       "        1.        , 0.        , 0.66666667],\n",
       "       [0.58333333, 1.        , 0.        , 0.52830189, 0.34246575,\n",
       "        0.        , 0.        , 0.3129771 , 1.        , 0.09677419,\n",
       "        0.5       , 0.25      , 0.33333333],\n",
       "       [0.52083333, 1.        , 0.        , 0.24528302, 0.14155251,\n",
       "        0.        , 0.5       , 0.32061069, 0.        , 0.22580645,\n",
       "        0.5       , 0.25      , 1.        ],\n",
       "       [0.64583333, 0.        , 1.        , 0.52830189, 0.26027397,\n",
       "        0.        , 0.5       , 0.76335878, 0.        , 0.14516129,\n",
       "        1.        , 0.        , 0.66666667],\n",
       "       [0.25      , 0.        , 0.33333333, 0.30188679, 0.4109589 ,\n",
       "        0.        , 0.5       , 0.70229008, 0.        , 0.        ,\n",
       "        1.        , 0.        , 0.66666667],\n",
       "       [0.54166667, 1.        , 0.        , 0.62264151, 0.37214612,\n",
       "        0.        , 0.        , 0.5648855 , 1.        , 0.12903226,\n",
       "        0.5       , 0.25      , 1.        ],\n",
       "       [0.125     , 1.        , 0.33333333, 0.26415094, 0.15068493,\n",
       "        0.        , 0.5       , 0.78625954, 0.        , 0.        ,\n",
       "        1.        , 0.        , 0.66666667],\n",
       "       [0.60416667, 1.        , 0.        , 0.49056604, 0.21004566,\n",
       "        0.        , 0.5       , 0.25954198, 0.        , 0.32258065,\n",
       "        0.5       , 0.25      , 1.        ],\n",
       "       [0.45833333, 1.        , 0.        , 0.43396226, 0.39497717,\n",
       "        0.        , 0.5       , 0.77862595, 1.        , 0.25806452,\n",
       "        1.        , 0.        , 1.        ],\n",
       "       [0.72916667, 0.        , 0.66666667, 0.43396226, 0.42694064,\n",
       "        0.        , 0.5       , 0.47328244, 0.        , 0.03225806,\n",
       "        1.        , 0.        , 1.        ],\n",
       "       [0.5625    , 1.        , 0.33333333, 0.33962264, 0.21689498,\n",
       "        0.        , 0.        , 0.70229008, 0.        , 0.        ,\n",
       "        1.        , 0.        , 1.        ],\n",
       "       [0.625     , 1.        , 0.        , 0.43396226, 0.11643836,\n",
       "        0.        , 0.5       , 0.69465649, 1.        , 0.        ,\n",
       "        1.        , 0.25      , 1.        ],\n",
       "       [0.79166667, 1.        , 0.        , 0.29245283, 0.29223744,\n",
       "        1.        , 0.5       , 0.70229008, 0.        , 0.03225806,\n",
       "        0.5       , 0.5       , 1.        ],\n",
       "       [0.1875    , 1.        , 1.        , 0.24528302, 0.23972603,\n",
       "        0.        , 0.5       , 0.84732824, 1.        , 0.61290323,\n",
       "        0.5       , 0.        , 1.        ],\n",
       "       [0.5       , 1.        , 0.66666667, 0.33962264, 0.16210046,\n",
       "        1.        , 0.        , 0.61832061, 0.        , 0.19354839,\n",
       "        0.        , 0.        , 0.66666667],\n",
       "       [0.27083333, 0.        , 0.66666667, 0.24528302, 0.18949772,\n",
       "        0.        , 0.5       , 0.77862595, 0.        , 0.        ,\n",
       "        0.5       , 0.        , 0.66666667],\n",
       "       [0.5       , 1.        , 0.        , 0.43396226, 0.17579909,\n",
       "        1.        , 0.        , 0.64122137, 1.        , 0.5       ,\n",
       "        0.        , 0.        , 1.        ],\n",
       "       [0.70833333, 1.        , 0.        , 0.33962264, 0.46575342,\n",
       "        1.        , 0.        , 0.46564885, 1.        , 0.29032258,\n",
       "        1.        , 0.75      , 1.        ],\n",
       "       [0.5625    , 1.        , 0.33333333, 0.24528302, 0.25114155,\n",
       "        0.        , 0.5       , 0.81679389, 0.        , 0.12903226,\n",
       "        1.        , 0.        , 0.66666667],\n",
       "       [0.5625    , 1.        , 0.33333333, 0.24528302, 0.26027397,\n",
       "        0.        , 0.5       , 0.7480916 , 0.        , 0.        ,\n",
       "        0.        , 0.        , 0.66666667],\n",
       "       [0.45833333, 0.        , 0.66666667, 0.24528302, 0.38584475,\n",
       "        0.        , 0.        , 0.65648855, 0.        , 0.09677419,\n",
       "        1.        , 0.        , 0.66666667],\n",
       "       [0.29166667, 1.        , 0.        , 0.35849057, 0.27625571,\n",
       "        1.        , 0.        , 0.54961832, 1.        , 0.01612903,\n",
       "        0.5       , 1.        , 1.        ],\n",
       "       [0.4375    , 1.        , 0.        , 0.47169811, 0.16894977,\n",
       "        0.        , 0.        , 0.41984733, 1.        , 0.14516129,\n",
       "        0.5       , 0.        , 1.        ],\n",
       "       [0.625     , 1.        , 1.        , 0.37735849, 0.17808219,\n",
       "        0.        , 0.5       , 0.69465649, 0.        , 0.12903226,\n",
       "        1.        , 0.5       , 0.66666667],\n",
       "       [0.45833333, 1.        , 0.        , 0.43396226, 0.39269406,\n",
       "        0.        , 0.5       , 0.38931298, 1.        , 0.67741935,\n",
       "        0.5       , 0.75      , 1.        ],\n",
       "       [0.25      , 1.        , 0.33333333, 0.1509434 , 0.24885845,\n",
       "        0.        , 0.5       , 0.6259542 , 0.        , 0.        ,\n",
       "        1.        , 0.        , 0.66666667],\n",
       "       [0.41666667, 1.        , 0.66666667, 0.22641509, 0.05251142,\n",
       "        0.        , 0.        , 0.41984733, 0.        , 0.12903226,\n",
       "        1.        , 0.75      , 0.66666667],\n",
       "       [0.375     , 1.        , 0.        , 0.1509434 , 0.34018265,\n",
       "        0.        , 0.        , 0.35877863, 1.        , 0.16129032,\n",
       "        0.5       , 0.25      , 0.66666667],\n",
       "       [0.625     , 1.        , 0.        , 0.66037736, 0.11415525,\n",
       "        1.        , 0.        , 0.14503817, 0.        , 0.16129032,\n",
       "        0.5       , 0.5       , 0.33333333],\n",
       "       [0.3125    , 0.        , 0.66666667, 0.13207547, 0.03424658,\n",
       "        0.        , 0.5       , 0.79389313, 0.        , 0.09677419,\n",
       "        0.5       , 0.        , 0.66666667],\n",
       "       [0.66666667, 0.        , 0.        , 0.33962264, 0.46575342,\n",
       "        0.        , 0.        , 0.7480916 , 0.        , 0.        ,\n",
       "        1.        , 0.        , 0.66666667],\n",
       "       [0.58333333, 1.        , 0.        , 0.66981132, 0.37214612,\n",
       "        1.        , 0.        , 0.40458015, 0.        , 0.16129032,\n",
       "        0.5       , 0.75      , 1.        ],\n",
       "       [0.4375    , 1.        , 0.        , 0.52830189, 0.26712329,\n",
       "        0.        , 0.        , 0.4351145 , 0.        , 0.41935484,\n",
       "        0.5       , 0.        , 1.        ],\n",
       "       [0.29166667, 0.        , 0.66666667, 0.26415094, 0.19863014,\n",
       "        0.        , 0.5       , 0.71755725, 0.        , 0.03225806,\n",
       "        0.5       , 0.        , 0.66666667],\n",
       "       [0.4375    , 1.        , 0.66666667, 0.43396226, 0.24429224,\n",
       "        0.        , 0.5       , 0.70229008, 0.        , 0.09677419,\n",
       "        0.5       , 0.25      , 1.        ],\n",
       "       [0.22916667, 1.        , 0.        , 0.1509434 , 0.09360731,\n",
       "        0.        , 0.        , 0.32824427, 1.        , 0.32258065,\n",
       "        0.5       , 0.        , 1.        ],\n",
       "       [0.375     , 1.        , 0.        , 0.16981132, 0.17808219,\n",
       "        0.        , 0.5       , 0.54961832, 0.        , 0.01612903,\n",
       "        1.        , 0.        , 0.66666667],\n",
       "       [0.45833333, 1.        , 0.66666667, 0.05660377, 0.21917808,\n",
       "        0.        , 0.5       , 0.54961832, 1.        , 0.19354839,\n",
       "        0.5       , 0.        , 0.66666667],\n",
       "       [0.39583333, 1.        , 0.33333333, 0.33962264, 0.2716895 ,\n",
       "        0.        , 0.        , 0.83206107, 0.        , 0.03225806,\n",
       "        0.5       , 0.        , 0.66666667],\n",
       "       [0.39583333, 0.        , 0.66666667, 0.33962264, 0.34018265,\n",
       "        0.        , 0.5       , 0.51908397, 0.        , 0.03225806,\n",
       "        1.        , 0.        , 0.66666667],\n",
       "       [0.1875    , 1.        , 0.66666667, 0.41509434, 0.11187215,\n",
       "        0.        , 0.5       , 0.77862595, 0.        , 0.        ,\n",
       "        1.        , 1.        , 0.66666667],\n",
       "       [0.29166667, 1.        , 0.66666667, 0.33962264, 0.43150685,\n",
       "        0.        , 0.5       , 0.69465649, 0.        , 0.30645161,\n",
       "        1.        , 0.25      , 0.66666667],\n",
       "       [0.5625    , 1.        , 0.        , 0.33962264, 0.35844749,\n",
       "        1.        , 0.        , 0.24427481, 1.        , 0.25806452,\n",
       "        0.        , 0.        , 1.        ],\n",
       "       [0.58333333, 1.        , 0.        , 0.1509434 , 0.47716895,\n",
       "        0.        , 0.5       , 0.54961832, 1.        , 0.48387097,\n",
       "        0.5       , 0.25      , 1.        ],\n",
       "       [0.64583333, 1.        , 0.        , 0.21698113, 0.23744292,\n",
       "        1.        , 0.5       , 0.67938931, 1.        , 0.22580645,\n",
       "        1.        , 0.5       , 1.        ],\n",
       "       [0.60416667, 1.        , 0.66666667, 0.35849057, 0.22374429,\n",
       "        0.        , 0.        , 0.77862595, 0.        , 0.51612903,\n",
       "        1.        , 0.5       , 1.        ],\n",
       "       [0.33333333, 0.        , 0.33333333, 0.16981132, 0.07762557,\n",
       "        0.        , 0.5       , 0.51145038, 0.        , 0.        ,\n",
       "        0.5       , 0.        , 0.66666667],\n",
       "       [0.54166667, 0.        , 0.33333333, 0.35849057, 0.49315068,\n",
       "        0.        , 0.5       , 0.72519084, 0.        , 0.19354839,\n",
       "        1.        , 0.        , 0.66666667],\n",
       "       [0.6875    , 0.        , 0.66666667, 0.33962264, 0.31278539,\n",
       "        0.        , 0.5       , 0.19847328, 0.        , 0.19354839,\n",
       "        0.5       , 0.25      , 1.        ],\n",
       "       [0.58333333, 1.        , 0.        , 0.35849057, 0.18493151,\n",
       "        0.        , 0.5       , 0.74045802, 1.        , 0.        ,\n",
       "        1.        , 0.        , 1.        ]])"
      ]
     },
     "execution_count": 26,
     "metadata": {},
     "output_type": "execute_result"
    }
   ],
   "source": [
    "x_test"
   ]
  },
  {
   "cell_type": "markdown",
   "id": "6a36091a",
   "metadata": {},
   "source": [
    "# Decision Tree Classifier"
   ]
  },
  {
   "cell_type": "code",
   "execution_count": 27,
   "id": "20ddfe88",
   "metadata": {},
   "outputs": [
    {
     "data": {
      "text/plain": [
       "DecisionTreeClassifier(criterion='entropy')"
      ]
     },
     "execution_count": 27,
     "metadata": {},
     "output_type": "execute_result"
    }
   ],
   "source": [
    "from sklearn.tree import DecisionTreeClassifier\n",
    "DTmodel=DecisionTreeClassifier(criterion='entropy')\n",
    "DTmodel.fit(x_train,y_train)"
   ]
  },
  {
   "cell_type": "code",
   "execution_count": 28,
   "id": "c652785c",
   "metadata": {},
   "outputs": [
    {
     "data": {
      "text/plain": [
       "99     1\n",
       "296    0\n",
       "89     1\n",
       "30     1\n",
       "234    0\n",
       "      ..\n",
       "173    0\n",
       "94     1\n",
       "161    1\n",
       "216    0\n",
       "91     1\n",
       "Name: target, Length: 61, dtype: int64"
      ]
     },
     "execution_count": 28,
     "metadata": {},
     "output_type": "execute_result"
    }
   ],
   "source": [
    "y_test"
   ]
  },
  {
   "cell_type": "code",
   "execution_count": 29,
   "id": "b1364b07",
   "metadata": {},
   "outputs": [],
   "source": [
    "DTprediction=DTmodel.predict(x_test)"
   ]
  },
  {
   "cell_type": "code",
   "execution_count": 30,
   "id": "6e3f6221",
   "metadata": {},
   "outputs": [],
   "source": [
    "from sklearn.metrics import confusion_matrix\n",
    "cm1=confusion_matrix(y_test,DTprediction)"
   ]
  },
  {
   "cell_type": "code",
   "execution_count": 31,
   "id": "7a0a241c",
   "metadata": {},
   "outputs": [
    {
     "data": {
      "text/plain": [
       "<AxesSubplot:>"
      ]
     },
     "execution_count": 31,
     "metadata": {},
     "output_type": "execute_result"
    },
    {
     "data": {
      "image/png": "[encoded data removed]",
      "text/plain": [
       "<Figure size 432x288 with 2 Axes>"
      ]
     },
     "metadata": {
      "needs_background": "light"
     },
     "output_type": "display_data"
    }
   ],
   "source": [
    "sb.heatmap(cm1,annot=True)"
   ]
  },
  {
   "cell_type": "code",
   "execution_count": 32,
   "id": "63e05368",
   "metadata": {},
   "outputs": [
    {
     "name": "stdout",
     "output_type": "stream",
     "text": [
      "Accuracy : 83.60655737704919\n"
     ]
    }
   ],
   "source": [
    "from sklearn.metrics import accuracy_score\n",
    "DTaccuracy=accuracy_score(DTprediction,y_test)*100\n",
    "print(\"Accuracy : {}\".format(DTaccuracy))"
   ]
  },
  {
   "cell_type": "markdown",
   "id": "a7d435a0",
   "metadata": {},
   "source": [
    "# K Nearest Neighbors Classifier"
   ]
  },
  {
   "cell_type": "code",
   "execution_count": 33,
   "id": "275fa0af",
   "metadata": {},
   "outputs": [
    {
     "data": {
      "text/plain": [
       "KNeighborsClassifier(metric='euclidean')"
      ]
     },
     "execution_count": 33,
     "metadata": {},
     "output_type": "execute_result"
    }
   ],
   "source": [
    "from sklearn.neighbors import KNeighborsClassifier\n",
    "KNNmodel=KNeighborsClassifier(n_neighbors=5,metric='euclidean')\n",
    "KNNmodel.fit(x_train,y_train)"
   ]
  },
  {
   "cell_type": "code",
   "execution_count": 34,
   "id": "7913ff42",
   "metadata": {},
   "outputs": [],
   "source": [
    "KNNprediction=KNNmodel.predict(x_test)"
   ]
  },
  {
   "cell_type": "code",
   "execution_count": 35,
   "id": "4a76e192",
   "metadata": {},
   "outputs": [
    {
     "data": {
      "text/plain": [
       "<AxesSubplot:>"
      ]
     },
     "execution_count": 35,
     "metadata": {},
     "output_type": "execute_result"
    },
    {
     "data": {
      "image/png": "[encoded data removed]",
      "text/plain": [
       "<Figure size 432x288 with 2 Axes>"
      ]
     },
     "metadata": {
      "needs_background": "light"
     },
     "output_type": "display_data"
    }
   ],
   "source": [
    "cm4=confusion_matrix(y_test,KNNprediction)\n",
    "sb.heatmap(cm4,annot=True)"
   ]
  },
  {
   "cell_type": "code",
   "execution_count": 36,
   "id": "6c25d62b",
   "metadata": {},
   "outputs": [
    {
     "name": "stdout",
     "output_type": "stream",
     "text": [
      "Accuracy : 86.88524590163934\n"
     ]
    }
   ],
   "source": [
    "KNNaccuracy=accuracy_score(KNNprediction,y_test)*100\n",
    "print(\"Accuracy : {}\".format(KNNaccuracy))"
   ]
  },
  {
   "cell_type": "markdown",
   "id": "aa880a30",
   "metadata": {},
   "source": [
    "# Logistic Regression"
   ]
  },
  {
   "cell_type": "code",
   "execution_count": 37,
   "id": "aa316946",
   "metadata": {},
   "outputs": [
    {
     "data": {
      "text/plain": [
       "LogisticRegression()"
      ]
     },
     "execution_count": 37,
     "metadata": {},
     "output_type": "execute_result"
    }
   ],
   "source": [
    "from sklearn.linear_model import LogisticRegression\n",
    "LRmodel=LogisticRegression()\n",
    "LRmodel.fit(x_train,y_train)"
   ]
  },
  {
   "cell_type": "code",
   "execution_count": 38,
   "id": "1dc5f423",
   "metadata": {},
   "outputs": [],
   "source": [
    "LRprediction=LRmodel.predict(x_test)"
   ]
  },
  {
   "cell_type": "code",
   "execution_count": 39,
   "id": "4bce1163",
   "metadata": {},
   "outputs": [
    {
     "data": {
      "text/plain": [
       "<AxesSubplot:>"
      ]
     },
     "execution_count": 39,
     "metadata": {},
     "output_type": "execute_result"
    },
    {
     "data": {
      "image/png": "[encoded data removed]",
      "text/plain": [
       "<Figure size 432x288 with 2 Axes>"
      ]
     },
     "metadata": {
      "needs_background": "light"
     },
     "output_type": "display_data"
    }
   ],
   "source": [
    "cm2=confusion_matrix(y_test,LRprediction)\n",
    "sb.heatmap(cm2,annot=True)"
   ]
  },
  {
   "cell_type": "code",
   "execution_count": 40,
   "id": "c646a1b2",
   "metadata": {},
   "outputs": [
    {
     "name": "stdout",
     "output_type": "stream",
     "text": [
      "Accuracy : 86.88524590163934\n"
     ]
    }
   ],
   "source": [
    "LRaccuracy=accuracy_score(LRprediction,y_test)*100\n",
    "print(\"Accuracy : {}\".format(LRaccuracy))"
   ]
  },
  {
   "cell_type": "markdown",
   "id": "a5379aa2",
   "metadata": {},
   "source": [
    "# Random Forest Classifier"
   ]
  },
  {
   "cell_type": "code",
   "execution_count": 41,
   "id": "6b4712f3",
   "metadata": {},
   "outputs": [
    {
     "data": {
      "text/plain": [
       "RandomForestClassifier(n_estimators=50, random_state=0)"
      ]
     },
     "execution_count": 41,
     "metadata": {},
     "output_type": "execute_result"
    }
   ],
   "source": [
    "from sklearn.ensemble import RandomForestClassifier\n",
    "RFmodel=RandomForestClassifier(n_estimators=50,random_state=0)\n",
    "RFmodel.fit(x_train,y_train)"
   ]
  },
  {
   "cell_type": "code",
   "execution_count": 42,
   "id": "2a8023cb",
   "metadata": {},
   "outputs": [
    {
     "data": {
      "text/plain": [
       "99     1\n",
       "296    0\n",
       "89     1\n",
       "30     1\n",
       "234    0\n",
       "      ..\n",
       "173    0\n",
       "94     1\n",
       "161    1\n",
       "216    0\n",
       "91     1\n",
       "Name: target, Length: 61, dtype: int64"
      ]
     },
     "execution_count": 42,
     "metadata": {},
     "output_type": "execute_result"
    }
   ],
   "source": [
    "y_test"
   ]
  },
  {
   "cell_type": "code",
   "execution_count": 43,
   "id": "f8f547c5",
   "metadata": {},
   "outputs": [],
   "source": [
    "RFprediction=RFmodel.predict(x_test)"
   ]
  },
  {
   "cell_type": "code",
   "execution_count": 44,
   "id": "82e2fa9c",
   "metadata": {},
   "outputs": [
    {
     "data": {
      "text/plain": [
       "<AxesSubplot:>"
      ]
     },
     "execution_count": 44,
     "metadata": {},
     "output_type": "execute_result"
    },
    {
     "data": {
      "image/png": "[encoded data removed]",
      "text/plain": [
       "<Figure size 432x288 with 2 Axes>"
      ]
     },
     "metadata": {
      "needs_background": "light"
     },
     "output_type": "display_data"
    }
   ],
   "source": [
    "cm3=confusion_matrix(y_test,RFprediction)\n",
    "sb.heatmap(cm3,annot=True)"
   ]
  },
  {
   "cell_type": "code",
   "execution_count": 45,
   "id": "15cda9d3",
   "metadata": {},
   "outputs": [
    {
     "name": "stdout",
     "output_type": "stream",
     "text": [
      "Accuracy : 91.80327868852459\n"
     ]
    }
   ],
   "source": [
    "RFaccuracy=accuracy_score(RFprediction,y_test)*100\n",
    "print(\"Accuracy : {}\".format(RFaccuracy))"
   ]
  },
  {
   "cell_type": "code",
   "execution_count": 46,
   "id": "b5f93efd",
   "metadata": {},
   "outputs": [],
   "source": [
    "#import pickle\n",
    "#pickle.dump(RFmodel,open('model.pkl','wb'))\n",
    "#pickle.dump(s,open('scale.pkl','wb'))"
   ]
  },
  {
   "cell_type": "code",
   "execution_count": 48,
   "id": "2d1929fb",
   "metadata": {},
   "outputs": [],
   "source": [
    "from tkinter import *\n",
    "from tkinter import ttk\n",
    "from tkinter import messagebox\n",
    "from PIL import ImageTk, Image\n",
    "import pickle  \n",
    "import numpy as np\n",
    "import pandas as pd\n",
    "\n",
    "\n",
    "  \n",
    "#model = pickle.load(open('model.pkl','rb'))\n",
    "#sc=pickle.load(open('scale.pkl','rb'))\n",
    "\n",
    "\n",
    "def predict():\n",
    "    age = e1.get()  \n",
    "    sex = e2.get()  \n",
    "    cp = e3.get()\n",
    "    trestbps = e4.get()\n",
    "    chol = e5.get()\n",
    "    fbs = e6.get()\n",
    "    restecg = e7.get()\n",
    "    thalach = e8.get()\n",
    "    exang = e9.get()\n",
    "    oldpeak = e10.get()\n",
    "    slope = e11.get()\n",
    "    ca = e12.get()\n",
    "    thal = e13.get()\n",
    "    arr = np.array([[age, sex, cp, trestbps,  \n",
    "            chol, fbs, restecg, thalach,  \n",
    "            exang, oldpeak, slope, ca,  \n",
    "            thal]])\n",
    "    pred = RFmodel.predict(s.transform(arr))\n",
    "    if pred == 0:\n",
    "        messagebox.showinfo(\"Prediction\",\"PATIENT DOES NOT HAS HEART PROBLEM!\")\n",
    "    else:\n",
    "        messagebox.showinfo(\"Prediction\",\"PATIENT HAS HEART PROBLEM!\\nPLEASE CONSULT THE DOCTOR\") \n",
    "\n",
    "\n",
    "root=Tk()\n",
    "root.geometry(\"600x600\")\n",
    "root.title(\"HEART DISEASE PREDICTION\")\n",
    "\n",
    "bg = ImageTk.PhotoImage(Image.open(\"heart.png\"))\n",
    "canvas1 = Canvas( root, width = 600,\n",
    "                 height = 600)\n",
    "  \n",
    "canvas1.pack(fill = \"both\", expand = True)\n",
    "canvas1.create_image( 0, 0, image = bg,anchor=NW)\n",
    "\n",
    "\n",
    "ttk.Label(root, text = \"Heart Disease Prediction\", \n",
    "          background = 'black', foreground =\"white\", \n",
    "          font = (\"Times New Roman\", 15)).place(x=130,y=10)\n",
    "\n",
    "global e1\n",
    "global e2,e3,e4,e5,e6,e7,e8,e9,e10,e11,e12,e13\n",
    "\n",
    "Label(root,text=\"AGE\").place(x=100,y=50)\n",
    "e1=Entry(root,width=20)\n",
    "e1.place(x=160,y=50)\n",
    "Label(root,text=\"(1-100)\").place(x=285,y=50)\n",
    "\n",
    "Label(root,text=\"SEX\").place(x=100,y=80)\n",
    "e2=Entry(root,width=20)\n",
    "e2.place(x=160,y=80)\n",
    "Label(root,text=\"(Male : 1 & Female : 0)\").place(x=285,y=80)\n",
    "\n",
    "Label(root,text=\"CP\").place(x=100,y=110)\n",
    "e3=Entry(root,width=20)\n",
    "e3.place(x=160,y=110)\n",
    "Label(root,text=\"(Chest Pain Type : 0-3)\").place(x=285,y=110)\n",
    "\n",
    "Label(root,text=\"TRESTBPS\").place(x=100,y=140)\n",
    "e4=Entry(root,width=20)\n",
    "e4.place(x=160,y=140)\n",
    "Label(root,text=\"(Resting Blood Pressure:Non-Decimal)\").place(x=285,y=140)\n",
    "\n",
    "Label(root,text=\"CHOL\").place(x=100,y=170)\n",
    "e5=Entry(root,width=20)\n",
    "e5.place(x=160,y=170)\n",
    "Label(root,text=\"(Serum Cholesterol:Non-Decimal)\").place(x=285,y=170)\n",
    "\n",
    "Label(root,text=\"FBS\").place(x=100,y=200)\n",
    "e6=Entry(root,width=20)\n",
    "e6.place(x=160,y=200)\n",
    "Label(root,text=\"(Fasting Blood Sugar : 0-1)\").place(x=285,y=200)\n",
    "\n",
    "Label(root,text=\"RESTECG\").place(x=100,y=230)\n",
    "e7=Entry(root,width=20)\n",
    "e7.place(x=160,y=230)\n",
    "Label(root,text=\"(Resting Electrocardiographic Result : 0-2)\").place(x=285,y=230)\n",
    "\n",
    "Label(root,text=\"THALACH\").place(x=100,y=260)\n",
    "e8=Entry(root,width=20)\n",
    "e8.place(x=160,y=260)\n",
    "Label(root,text=\"(Max Heart Rate)\").place(x=285,y=260)\n",
    "\n",
    "Label(root,text=\"EXANG\").place(x=100,y=290)\n",
    "e9=Entry(root,width=20)\n",
    "e9.place(x=160,y=290)\n",
    "Label(root,text=\"(Exercise-Induced Angina : 0-1)\").place(x=285,y=290)\n",
    "\n",
    "Label(root,text=\"OLDPEAK\").place(x=100,y=320)\n",
    "e10=Entry(root,width=20)\n",
    "e10.place(x=160,y=320)\n",
    "Label(root,text=\"(ST Depression:Decimal)\").place(x=285,y=320)\n",
    "\n",
    "Label(root,text=\"SLOPE\").place(x=100,y=350)\n",
    "e11=Entry(root,width=20)\n",
    "e11.place(x=160,y=350)\n",
    "Label(root,text=\"(Slope of the Peak : 0-2)\").place(x=285,y=350)\n",
    "\n",
    "Label(root,text=\"CA\").place(x=100,y=380)\n",
    "e12=Entry(root,width=20)\n",
    "e12.place(x=160,y=380)\n",
    "Label(root,text=\"(Number of Major Vessels : 0–3)\").place(x=285,y=380)\n",
    "\n",
    "Label(root,text=\"THAL\").place(x=100,y=410)\n",
    "e13=Entry(root,width=20)\n",
    "e13.place(x=160,y=410)\n",
    "Label(root,text=\"(Thalassemia : 1-3)\").place(x=285,y=410)\n",
    "\n",
    "predict=Button(root,text=\"PREDICT\",command=predict,bg=\"green\",fg=\"white\").place(x=200,y=450)\n",
    "\n",
    "root.mainloop()\n"
   ]
  },
  {
   "cell_type": "code",
   "execution_count": null,
   "id": "7313ea76",
   "metadata": {},
   "outputs": [],
   "source": []
  }
 ],
 "metadata": {
  "kernelspec": {
   "display_name": "Python 3.9.10 64-bit",
   "language": "python",
   "name": "python3"
  },
  "language_info": {
   "codemirror_mode": {
    "name": "ipython",
    "version": 3
   },
   "file_extension": ".py",
   "mimetype": "text/x-python",
   "name": "python",
   "nbconvert_exporter": "python",
   "pygments_lexer": "ipython3",
   "version": "3.9.10"
  },
  "vscode": {
   "interpreter": {
    "hash": "aecc9026b9a1db00a1f0204620fd71831131408cd93f417a013fbc5cb2f866fc"
   }
  }
 },
 "nbformat": 4,
 "nbformat_minor": 5
}
