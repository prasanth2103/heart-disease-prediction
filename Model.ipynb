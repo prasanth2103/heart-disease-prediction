{
 "cells": [
  {
   "cell_type": "markdown",
   "id": "eb0d1741",
   "metadata": {},
   "source": [
    "# Importing the libraries"
   ]
  },
  {
   "cell_type": "code",
   "execution_count": 1,
   "id": "9421ed68",
   "metadata": {},
   "outputs": [],
   "source": [
    "import numpy as np\n",
    "import pandas as pd\n",
    "import matplotlib.pyplot as plt\n",
    "import seaborn as sb"
   ]
  },
  {
   "cell_type": "markdown",
   "id": "a31df4fe",
   "metadata": {},
   "source": [
    "# Reading the CSV file"
   ]
  },
  {
   "cell_type": "code",
   "execution_count": 2,
   "id": "851f19dd",
   "metadata": {},
   "outputs": [],
   "source": [
    "dataset=pd.read_csv('heart.csv')"
   ]
  },
  {
   "cell_type": "code",
   "execution_count": 3,
   "id": "d3b58332",
   "metadata": {},
   "outputs": [
    {
     "data": {
      "text/html": [
       "<div>\n",
       "<style scoped>\n",
       "    .dataframe tbody tr th:only-of-type {\n",
       "        vertical-align: middle;\n",
       "    }\n",
       "\n",
       "    .dataframe tbody tr th {\n",
       "        vertical-align: top;\n",
       "    }\n",
       "\n",
       "    .dataframe thead th {\n",
       "        text-align: right;\n",
       "    }\n",
       "</style>\n",
       "<table border=\"1\" class=\"dataframe\">\n",
       "  <thead>\n",
       "    <tr style=\"text-align: right;\">\n",
       "      <th></th>\n",
       "      <th>age</th>\n",
       "      <th>sex</th>\n",
       "      <th>cp</th>\n",
       "      <th>trestbps</th>\n",
       "      <th>chol</th>\n",
       "      <th>fbs</th>\n",
       "      <th>restecg</th>\n",
       "      <th>thalach</th>\n",
       "      <th>exang</th>\n",
       "      <th>oldpeak</th>\n",
       "      <th>slope</th>\n",
       "      <th>ca</th>\n",
       "      <th>thal</th>\n",
       "      <th>target</th>\n",
       "    </tr>\n",
       "  </thead>\n",
       "  <tbody>\n",
       "    <tr>\n",
       "      <th>0</th>\n",
       "      <td>63</td>\n",
       "      <td>1</td>\n",
       "      <td>3</td>\n",
       "      <td>145</td>\n",
       "      <td>233</td>\n",
       "      <td>1</td>\n",
       "      <td>0</td>\n",
       "      <td>150</td>\n",
       "      <td>0</td>\n",
       "      <td>2.3</td>\n",
       "      <td>0</td>\n",
       "      <td>0</td>\n",
       "      <td>1</td>\n",
       "      <td>1</td>\n",
       "    </tr>\n",
       "    <tr>\n",
       "      <th>1</th>\n",
       "      <td>37</td>\n",
       "      <td>1</td>\n",
       "      <td>2</td>\n",
       "      <td>130</td>\n",
       "      <td>250</td>\n",
       "      <td>0</td>\n",
       "      <td>1</td>\n",
       "      <td>187</td>\n",
       "      <td>0</td>\n",
       "      <td>3.5</td>\n",
       "      <td>0</td>\n",
       "      <td>0</td>\n",
       "      <td>2</td>\n",
       "      <td>1</td>\n",
       "    </tr>\n",
       "    <tr>\n",
       "      <th>2</th>\n",
       "      <td>41</td>\n",
       "      <td>0</td>\n",
       "      <td>1</td>\n",
       "      <td>130</td>\n",
       "      <td>204</td>\n",
       "      <td>0</td>\n",
       "      <td>0</td>\n",
       "      <td>172</td>\n",
       "      <td>0</td>\n",
       "      <td>1.4</td>\n",
       "      <td>2</td>\n",
       "      <td>0</td>\n",
       "      <td>2</td>\n",
       "      <td>1</td>\n",
       "    </tr>\n",
       "    <tr>\n",
       "      <th>3</th>\n",
       "      <td>56</td>\n",
       "      <td>1</td>\n",
       "      <td>1</td>\n",
       "      <td>120</td>\n",
       "      <td>236</td>\n",
       "      <td>0</td>\n",
       "      <td>1</td>\n",
       "      <td>178</td>\n",
       "      <td>0</td>\n",
       "      <td>0.8</td>\n",
       "      <td>2</td>\n",
       "      <td>0</td>\n",
       "      <td>2</td>\n",
       "      <td>1</td>\n",
       "    </tr>\n",
       "    <tr>\n",
       "      <th>4</th>\n",
       "      <td>57</td>\n",
       "      <td>0</td>\n",
       "      <td>0</td>\n",
       "      <td>120</td>\n",
       "      <td>354</td>\n",
       "      <td>0</td>\n",
       "      <td>1</td>\n",
       "      <td>163</td>\n",
       "      <td>1</td>\n",
       "      <td>0.6</td>\n",
       "      <td>2</td>\n",
       "      <td>0</td>\n",
       "      <td>2</td>\n",
       "      <td>1</td>\n",
       "    </tr>\n",
       "  </tbody>\n",
       "</table>\n",
       "</div>"
      ],
      "text/plain": [
       "   age  sex  cp  trestbps  chol  fbs  restecg  thalach  exang  oldpeak  slope  \\\n",
       "0   63    1   3       145   233    1        0      150      0      2.3      0   \n",
       "1   37    1   2       130   250    0        1      187      0      3.5      0   \n",
       "2   41    0   1       130   204    0        0      172      0      1.4      2   \n",
       "3   56    1   1       120   236    0        1      178      0      0.8      2   \n",
       "4   57    0   0       120   354    0        1      163      1      0.6      2   \n",
       "\n",
       "   ca  thal  target  \n",
       "0   0     1       1  \n",
       "1   0     2       1  \n",
       "2   0     2       1  \n",
       "3   0     2       1  \n",
       "4   0     2       1  "
      ]
     },
     "execution_count": 3,
     "metadata": {},
     "output_type": "execute_result"
    }
   ],
   "source": [
    "dataset.head()"
   ]
  },
  {
   "cell_type": "code",
   "execution_count": 4,
   "id": "8b0a09c4",
   "metadata": {},
   "outputs": [
    {
     "data": {
      "text/html": [
       "<div>\n",
       "<style scoped>\n",
       "    .dataframe tbody tr th:only-of-type {\n",
       "        vertical-align: middle;\n",
       "    }\n",
       "\n",
       "    .dataframe tbody tr th {\n",
       "        vertical-align: top;\n",
       "    }\n",
       "\n",
       "    .dataframe thead th {\n",
       "        text-align: right;\n",
       "    }\n",
       "</style>\n",
       "<table border=\"1\" class=\"dataframe\">\n",
       "  <thead>\n",
       "    <tr style=\"text-align: right;\">\n",
       "      <th></th>\n",
       "      <th>age</th>\n",
       "      <th>sex</th>\n",
       "      <th>cp</th>\n",
       "      <th>trestbps</th>\n",
       "      <th>chol</th>\n",
       "      <th>fbs</th>\n",
       "      <th>restecg</th>\n",
       "      <th>thalach</th>\n",
       "      <th>exang</th>\n",
       "      <th>oldpeak</th>\n",
       "      <th>slope</th>\n",
       "      <th>ca</th>\n",
       "      <th>thal</th>\n",
       "      <th>target</th>\n",
       "    </tr>\n",
       "  </thead>\n",
       "  <tbody>\n",
       "    <tr>\n",
       "      <th>298</th>\n",
       "      <td>57</td>\n",
       "      <td>0</td>\n",
       "      <td>0</td>\n",
       "      <td>140</td>\n",
       "      <td>241</td>\n",
       "      <td>0</td>\n",
       "      <td>1</td>\n",
       "      <td>123</td>\n",
       "      <td>1</td>\n",
       "      <td>0.2</td>\n",
       "      <td>1</td>\n",
       "      <td>0</td>\n",
       "      <td>3</td>\n",
       "      <td>0</td>\n",
       "    </tr>\n",
       "    <tr>\n",
       "      <th>299</th>\n",
       "      <td>45</td>\n",
       "      <td>1</td>\n",
       "      <td>3</td>\n",
       "      <td>110</td>\n",
       "      <td>264</td>\n",
       "      <td>0</td>\n",
       "      <td>1</td>\n",
       "      <td>132</td>\n",
       "      <td>0</td>\n",
       "      <td>1.2</td>\n",
       "      <td>1</td>\n",
       "      <td>0</td>\n",
       "      <td>3</td>\n",
       "      <td>0</td>\n",
       "    </tr>\n",
       "    <tr>\n",
       "      <th>300</th>\n",
       "      <td>68</td>\n",
       "      <td>1</td>\n",
       "      <td>0</td>\n",
       "      <td>144</td>\n",
       "      <td>193</td>\n",
       "      <td>1</td>\n",
       "      <td>1</td>\n",
       "      <td>141</td>\n",
       "      <td>0</td>\n",
       "      <td>3.4</td>\n",
       "      <td>1</td>\n",
       "      <td>2</td>\n",
       "      <td>3</td>\n",
       "      <td>0</td>\n",
       "    </tr>\n",
       "    <tr>\n",
       "      <th>301</th>\n",
       "      <td>57</td>\n",
       "      <td>1</td>\n",
       "      <td>0</td>\n",
       "      <td>130</td>\n",
       "      <td>131</td>\n",
       "      <td>0</td>\n",
       "      <td>1</td>\n",
       "      <td>115</td>\n",
       "      <td>1</td>\n",
       "      <td>1.2</td>\n",
       "      <td>1</td>\n",
       "      <td>1</td>\n",
       "      <td>3</td>\n",
       "      <td>0</td>\n",
       "    </tr>\n",
       "    <tr>\n",
       "      <th>302</th>\n",
       "      <td>57</td>\n",
       "      <td>0</td>\n",
       "      <td>1</td>\n",
       "      <td>130</td>\n",
       "      <td>236</td>\n",
       "      <td>0</td>\n",
       "      <td>0</td>\n",
       "      <td>174</td>\n",
       "      <td>0</td>\n",
       "      <td>0.0</td>\n",
       "      <td>1</td>\n",
       "      <td>1</td>\n",
       "      <td>2</td>\n",
       "      <td>0</td>\n",
       "    </tr>\n",
       "  </tbody>\n",
       "</table>\n",
       "</div>"
      ],
      "text/plain": [
       "     age  sex  cp  trestbps  chol  fbs  restecg  thalach  exang  oldpeak  \\\n",
       "298   57    0   0       140   241    0        1      123      1      0.2   \n",
       "299   45    1   3       110   264    0        1      132      0      1.2   \n",
       "300   68    1   0       144   193    1        1      141      0      3.4   \n",
       "301   57    1   0       130   131    0        1      115      1      1.2   \n",
       "302   57    0   1       130   236    0        0      174      0      0.0   \n",
       "\n",
       "     slope  ca  thal  target  \n",
       "298      1   0     3       0  \n",
       "299      1   0     3       0  \n",
       "300      1   2     3       0  \n",
       "301      1   1     3       0  \n",
       "302      1   1     2       0  "
      ]
     },
     "execution_count": 4,
     "metadata": {},
     "output_type": "execute_result"
    }
   ],
   "source": [
    "dataset.tail()"
   ]
  },
  {
   "cell_type": "code",
   "execution_count": 5,
   "id": "b8e1e2a2",
   "metadata": {},
   "outputs": [
    {
     "data": {
      "text/html": [
       "<div>\n",
       "<style scoped>\n",
       "    .dataframe tbody tr th:only-of-type {\n",
       "        vertical-align: middle;\n",
       "    }\n",
       "\n",
       "    .dataframe tbody tr th {\n",
       "        vertical-align: top;\n",
       "    }\n",
       "\n",
       "    .dataframe thead th {\n",
       "        text-align: right;\n",
       "    }\n",
       "</style>\n",
       "<table border=\"1\" class=\"dataframe\">\n",
       "  <thead>\n",
       "    <tr style=\"text-align: right;\">\n",
       "      <th></th>\n",
       "      <th>age</th>\n",
       "      <th>sex</th>\n",
       "      <th>cp</th>\n",
       "      <th>trestbps</th>\n",
       "      <th>chol</th>\n",
       "      <th>fbs</th>\n",
       "      <th>restecg</th>\n",
       "      <th>thalach</th>\n",
       "      <th>exang</th>\n",
       "      <th>oldpeak</th>\n",
       "      <th>slope</th>\n",
       "      <th>ca</th>\n",
       "      <th>thal</th>\n",
       "      <th>target</th>\n",
       "    </tr>\n",
       "  </thead>\n",
       "  <tbody>\n",
       "    <tr>\n",
       "      <th>count</th>\n",
       "      <td>303.000000</td>\n",
       "      <td>303.000000</td>\n",
       "      <td>303.000000</td>\n",
       "      <td>303.000000</td>\n",
       "      <td>303.000000</td>\n",
       "      <td>303.000000</td>\n",
       "      <td>303.000000</td>\n",
       "      <td>303.000000</td>\n",
       "      <td>303.000000</td>\n",
       "      <td>303.000000</td>\n",
       "      <td>303.000000</td>\n",
       "      <td>303.000000</td>\n",
       "      <td>303.000000</td>\n",
       "      <td>303.000000</td>\n",
       "    </tr>\n",
       "    <tr>\n",
       "      <th>mean</th>\n",
       "      <td>54.366337</td>\n",
       "      <td>0.683168</td>\n",
       "      <td>0.966997</td>\n",
       "      <td>131.623762</td>\n",
       "      <td>246.264026</td>\n",
       "      <td>0.148515</td>\n",
       "      <td>0.528053</td>\n",
       "      <td>149.646865</td>\n",
       "      <td>0.326733</td>\n",
       "      <td>1.039604</td>\n",
       "      <td>1.399340</td>\n",
       "      <td>0.729373</td>\n",
       "      <td>2.313531</td>\n",
       "      <td>0.544554</td>\n",
       "    </tr>\n",
       "    <tr>\n",
       "      <th>std</th>\n",
       "      <td>9.082101</td>\n",
       "      <td>0.466011</td>\n",
       "      <td>1.032052</td>\n",
       "      <td>17.538143</td>\n",
       "      <td>51.830751</td>\n",
       "      <td>0.356198</td>\n",
       "      <td>0.525860</td>\n",
       "      <td>22.905161</td>\n",
       "      <td>0.469794</td>\n",
       "      <td>1.161075</td>\n",
       "      <td>0.616226</td>\n",
       "      <td>1.022606</td>\n",
       "      <td>0.612277</td>\n",
       "      <td>0.498835</td>\n",
       "    </tr>\n",
       "    <tr>\n",
       "      <th>min</th>\n",
       "      <td>29.000000</td>\n",
       "      <td>0.000000</td>\n",
       "      <td>0.000000</td>\n",
       "      <td>94.000000</td>\n",
       "      <td>126.000000</td>\n",
       "      <td>0.000000</td>\n",
       "      <td>0.000000</td>\n",
       "      <td>71.000000</td>\n",
       "      <td>0.000000</td>\n",
       "      <td>0.000000</td>\n",
       "      <td>0.000000</td>\n",
       "      <td>0.000000</td>\n",
       "      <td>0.000000</td>\n",
       "      <td>0.000000</td>\n",
       "    </tr>\n",
       "    <tr>\n",
       "      <th>25%</th>\n",
       "      <td>47.500000</td>\n",
       "      <td>0.000000</td>\n",
       "      <td>0.000000</td>\n",
       "      <td>120.000000</td>\n",
       "      <td>211.000000</td>\n",
       "      <td>0.000000</td>\n",
       "      <td>0.000000</td>\n",
       "      <td>133.500000</td>\n",
       "      <td>0.000000</td>\n",
       "      <td>0.000000</td>\n",
       "      <td>1.000000</td>\n",
       "      <td>0.000000</td>\n",
       "      <td>2.000000</td>\n",
       "      <td>0.000000</td>\n",
       "    </tr>\n",
       "    <tr>\n",
       "      <th>50%</th>\n",
       "      <td>55.000000</td>\n",
       "      <td>1.000000</td>\n",
       "      <td>1.000000</td>\n",
       "      <td>130.000000</td>\n",
       "      <td>240.000000</td>\n",
       "      <td>0.000000</td>\n",
       "      <td>1.000000</td>\n",
       "      <td>153.000000</td>\n",
       "      <td>0.000000</td>\n",
       "      <td>0.800000</td>\n",
       "      <td>1.000000</td>\n",
       "      <td>0.000000</td>\n",
       "      <td>2.000000</td>\n",
       "      <td>1.000000</td>\n",
       "    </tr>\n",
       "    <tr>\n",
       "      <th>75%</th>\n",
       "      <td>61.000000</td>\n",
       "      <td>1.000000</td>\n",
       "      <td>2.000000</td>\n",
       "      <td>140.000000</td>\n",
       "      <td>274.500000</td>\n",
       "      <td>0.000000</td>\n",
       "      <td>1.000000</td>\n",
       "      <td>166.000000</td>\n",
       "      <td>1.000000</td>\n",
       "      <td>1.600000</td>\n",
       "      <td>2.000000</td>\n",
       "      <td>1.000000</td>\n",
       "      <td>3.000000</td>\n",
       "      <td>1.000000</td>\n",
       "    </tr>\n",
       "    <tr>\n",
       "      <th>max</th>\n",
       "      <td>77.000000</td>\n",
       "      <td>1.000000</td>\n",
       "      <td>3.000000</td>\n",
       "      <td>200.000000</td>\n",
       "      <td>564.000000</td>\n",
       "      <td>1.000000</td>\n",
       "      <td>2.000000</td>\n",
       "      <td>202.000000</td>\n",
       "      <td>1.000000</td>\n",
       "      <td>6.200000</td>\n",
       "      <td>2.000000</td>\n",
       "      <td>4.000000</td>\n",
       "      <td>3.000000</td>\n",
       "      <td>1.000000</td>\n",
       "    </tr>\n",
       "  </tbody>\n",
       "</table>\n",
       "</div>"
      ],
      "text/plain": [
       "              age         sex          cp    trestbps        chol         fbs  \\\n",
       "count  303.000000  303.000000  303.000000  303.000000  303.000000  303.000000   \n",
       "mean    54.366337    0.683168    0.966997  131.623762  246.264026    0.148515   \n",
       "std      9.082101    0.466011    1.032052   17.538143   51.830751    0.356198   \n",
       "min     29.000000    0.000000    0.000000   94.000000  126.000000    0.000000   \n",
       "25%     47.500000    0.000000    0.000000  120.000000  211.000000    0.000000   \n",
       "50%     55.000000    1.000000    1.000000  130.000000  240.000000    0.000000   \n",
       "75%     61.000000    1.000000    2.000000  140.000000  274.500000    0.000000   \n",
       "max     77.000000    1.000000    3.000000  200.000000  564.000000    1.000000   \n",
       "\n",
       "          restecg     thalach       exang     oldpeak       slope          ca  \\\n",
       "count  303.000000  303.000000  303.000000  303.000000  303.000000  303.000000   \n",
       "mean     0.528053  149.646865    0.326733    1.039604    1.399340    0.729373   \n",
       "std      0.525860   22.905161    0.469794    1.161075    0.616226    1.022606   \n",
       "min      0.000000   71.000000    0.000000    0.000000    0.000000    0.000000   \n",
       "25%      0.000000  133.500000    0.000000    0.000000    1.000000    0.000000   \n",
       "50%      1.000000  153.000000    0.000000    0.800000    1.000000    0.000000   \n",
       "75%      1.000000  166.000000    1.000000    1.600000    2.000000    1.000000   \n",
       "max      2.000000  202.000000    1.000000    6.200000    2.000000    4.000000   \n",
       "\n",
       "             thal      target  \n",
       "count  303.000000  303.000000  \n",
       "mean     2.313531    0.544554  \n",
       "std      0.612277    0.498835  \n",
       "min      0.000000    0.000000  \n",
       "25%      2.000000    0.000000  \n",
       "50%      2.000000    1.000000  \n",
       "75%      3.000000    1.000000  \n",
       "max      3.000000    1.000000  "
      ]
     },
     "execution_count": 5,
     "metadata": {},
     "output_type": "execute_result"
    }
   ],
   "source": [
    "dataset.describe()"
   ]
  },
  {
   "cell_type": "code",
   "execution_count": 6,
   "id": "d574ee31",
   "metadata": {},
   "outputs": [
    {
     "name": "stdout",
     "output_type": "stream",
     "text": [
      "<class 'pandas.core.frame.DataFrame'>\n",
      "RangeIndex: 303 entries, 0 to 302\n",
      "Data columns (total 14 columns):\n",
      " #   Column    Non-Null Count  Dtype  \n",
      "---  ------    --------------  -----  \n",
      " 0   age       303 non-null    int64  \n",
      " 1   sex       303 non-null    int64  \n",
      " 2   cp        303 non-null    int64  \n",
      " 3   trestbps  303 non-null    int64  \n",
      " 4   chol      303 non-null    int64  \n",
      " 5   fbs       303 non-null    int64  \n",
      " 6   restecg   303 non-null    int64  \n",
      " 7   thalach   303 non-null    int64  \n",
      " 8   exang     303 non-null    int64  \n",
      " 9   oldpeak   303 non-null    float64\n",
      " 10  slope     303 non-null    int64  \n",
      " 11  ca        303 non-null    int64  \n",
      " 12  thal      303 non-null    int64  \n",
      " 13  target    303 non-null    int64  \n",
      "dtypes: float64(1), int64(13)\n",
      "memory usage: 33.3 KB\n"
     ]
    }
   ],
   "source": [
    "dataset.info()"
   ]
  },
  {
   "cell_type": "code",
   "execution_count": 7,
   "id": "62ae6975",
   "metadata": {},
   "outputs": [
    {
     "data": {
      "text/plain": [
       "age         0\n",
       "sex         0\n",
       "cp          0\n",
       "trestbps    0\n",
       "chol        0\n",
       "fbs         0\n",
       "restecg     0\n",
       "thalach     0\n",
       "exang       0\n",
       "oldpeak     0\n",
       "slope       0\n",
       "ca          0\n",
       "thal        0\n",
       "target      0\n",
       "dtype: int64"
      ]
     },
     "execution_count": 7,
     "metadata": {},
     "output_type": "execute_result"
    }
   ],
   "source": [
    "#checking for null values\n",
    "dataset.isna().sum()"
   ]
  },
  {
   "cell_type": "code",
   "execution_count": 8,
   "id": "9f7e571d",
   "metadata": {},
   "outputs": [
    {
     "data": {
      "text/plain": [
       "<AxesSubplot:xlabel='sex', ylabel='count'>"
      ]
     },
     "execution_count": 8,
     "metadata": {},
     "output_type": "execute_result"
    },
    {
     "data": {
      "image/png": "[encoded data removed]",
      "text/plain": [
       "<Figure size 432x288 with 1 Axes>"
      ]
     },
     "metadata": {
      "needs_background": "light"
     },
     "output_type": "display_data"
    }
   ],
   "source": [
    "#plotting the sex variable\n",
    "sb.countplot(x='sex',data=dataset)"
   ]
  },
  {
   "cell_type": "code",
   "execution_count": 9,
   "id": "5a7a6ba7",
   "metadata": {},
   "outputs": [
    {
     "data": {
      "text/plain": [
       "<AxesSubplot:xlabel='target', ylabel='count'>"
      ]
     },
     "execution_count": 9,
     "metadata": {},
     "output_type": "execute_result"
    },
    {
     "data": {
      "image/png": "[encoded data removed]",
      "text/plain": [
       "<Figure size 432x288 with 1 Axes>"
      ]
     },
     "metadata": {
      "needs_background": "light"
     },
     "output_type": "display_data"
    }
   ],
   "source": [
    "#plotting the target variable\n",
    "sb.countplot(x='target',data=dataset)"
   ]
  },
  {
   "cell_type": "code",
   "execution_count": 10,
   "id": "06638ec3",
   "metadata": {},
   "outputs": [
    {
     "data": {
      "text/plain": [
       "<AxesSubplot:>"
      ]
     },
     "execution_count": 10,
     "metadata": {},
     "output_type": "execute_result"
    },
    {
     "data": {
      "image/png": "[encoded data removed]",
      "text/plain": [
       "<Figure size 1080x1080 with 2 Axes>"
      ]
     },
     "metadata": {
      "needs_background": "light"
     },
     "output_type": "display_data"
    }
   ],
   "source": [
    "#getting correlations of every feature in the dataset\n",
    "corr_matrix=dataset.corr()\n",
    "plt.figure(figsize=(15,15))\n",
    "sb.heatmap(corr_matrix,annot=True)"
   ]
  },
  {
   "cell_type": "code",
   "execution_count": 11,
   "id": "e758a9d5",
   "metadata": {},
   "outputs": [
    {
     "data": {
      "image/png": "[encoded data removed]",
      "text/plain": [
       "<Figure size 1080x1080 with 16 Axes>"
      ]
     },
     "metadata": {
      "needs_background": "light"
     },
     "output_type": "display_data"
    }
   ],
   "source": [
    "#plotting histogram for each column\n",
    "dataset.hist(figsize=(15,15))\n",
    "plt.show()"
   ]
  },
  {
   "cell_type": "code",
   "execution_count": 12,
   "id": "9ea936f4",
   "metadata": {},
   "outputs": [],
   "source": [
    "x=dataset.drop(['target'],axis=1).values\n",
    "y=dataset['target'].values"
   ]
  },
  {
   "cell_type": "code",
   "execution_count": 13,
   "id": "4c0e5f67",
   "metadata": {},
   "outputs": [
    {
     "data": {
      "text/plain": [
       "array([[63.,  1.,  3., ...,  0.,  0.,  1.],\n",
       "       [37.,  1.,  2., ...,  0.,  0.,  2.],\n",
       "       [41.,  0.,  1., ...,  2.,  0.,  2.],\n",
       "       ...,\n",
       "       [68.,  1.,  0., ...,  1.,  2.,  3.],\n",
       "       [57.,  1.,  0., ...,  1.,  1.,  3.],\n",
       "       [57.,  0.,  1., ...,  1.,  1.,  2.]])"
      ]
     },
     "execution_count": 13,
     "metadata": {},
     "output_type": "execute_result"
    }
   ],
   "source": [
    "x"
   ]
  },
  {
   "cell_type": "code",
   "execution_count": 14,
   "id": "acb1eda9",
   "metadata": {},
   "outputs": [
    {
     "data": {
      "text/plain": [
       "array([1, 1, 1, 1, 1, 1, 1, 1, 1, 1, 1, 1, 1, 1, 1, 1, 1, 1, 1, 1, 1, 1,\n",
       "       1, 1, 1, 1, 1, 1, 1, 1, 1, 1, 1, 1, 1, 1, 1, 1, 1, 1, 1, 1, 1, 1,\n",
       "       1, 1, 1, 1, 1, 1, 1, 1, 1, 1, 1, 1, 1, 1, 1, 1, 1, 1, 1, 1, 1, 1,\n",
       "       1, 1, 1, 1, 1, 1, 1, 1, 1, 1, 1, 1, 1, 1, 1, 1, 1, 1, 1, 1, 1, 1,\n",
       "       1, 1, 1, 1, 1, 1, 1, 1, 1, 1, 1, 1, 1, 1, 1, 1, 1, 1, 1, 1, 1, 1,\n",
       "       1, 1, 1, 1, 1, 1, 1, 1, 1, 1, 1, 1, 1, 1, 1, 1, 1, 1, 1, 1, 1, 1,\n",
       "       1, 1, 1, 1, 1, 1, 1, 1, 1, 1, 1, 1, 1, 1, 1, 1, 1, 1, 1, 1, 1, 1,\n",
       "       1, 1, 1, 1, 1, 1, 1, 1, 1, 1, 1, 0, 0, 0, 0, 0, 0, 0, 0, 0, 0, 0,\n",
       "       0, 0, 0, 0, 0, 0, 0, 0, 0, 0, 0, 0, 0, 0, 0, 0, 0, 0, 0, 0, 0, 0,\n",
       "       0, 0, 0, 0, 0, 0, 0, 0, 0, 0, 0, 0, 0, 0, 0, 0, 0, 0, 0, 0, 0, 0,\n",
       "       0, 0, 0, 0, 0, 0, 0, 0, 0, 0, 0, 0, 0, 0, 0, 0, 0, 0, 0, 0, 0, 0,\n",
       "       0, 0, 0, 0, 0, 0, 0, 0, 0, 0, 0, 0, 0, 0, 0, 0, 0, 0, 0, 0, 0, 0,\n",
       "       0, 0, 0, 0, 0, 0, 0, 0, 0, 0, 0, 0, 0, 0, 0, 0, 0, 0, 0, 0, 0, 0,\n",
       "       0, 0, 0, 0, 0, 0, 0, 0, 0, 0, 0, 0, 0, 0, 0, 0, 0], dtype=int64)"
      ]
     },
     "execution_count": 14,
     "metadata": {},
     "output_type": "execute_result"
    }
   ],
   "source": [
    "y"
   ]
  },
  {
   "cell_type": "markdown",
   "id": "6263a3ce",
   "metadata": {},
   "source": [
    "# Splitting the data into training and testing data"
   ]
  },
  {
   "cell_type": "code",
   "execution_count": 15,
   "id": "91ec2b3a",
   "metadata": {},
   "outputs": [],
   "source": [
    "from sklearn.model_selection import train_test_split\n",
    "x_train,x_test,y_train,y_test=train_test_split(x,y,test_size=0.2,random_state=2)"
   ]
  },
  {
   "cell_type": "code",
   "execution_count": 16,
   "id": "62f35117",
   "metadata": {},
   "outputs": [
    {
     "data": {
      "text/plain": [
       "(242, 13)"
      ]
     },
     "execution_count": 16,
     "metadata": {},
     "output_type": "execute_result"
    }
   ],
   "source": [
    "x_train.shape"
   ]
  },
  {
   "cell_type": "code",
   "execution_count": 17,
   "id": "ea409ed9",
   "metadata": {},
   "outputs": [
    {
     "data": {
      "text/plain": [
       "(61, 13)"
      ]
     },
     "execution_count": 17,
     "metadata": {},
     "output_type": "execute_result"
    }
   ],
   "source": [
    "x_test.shape"
   ]
  },
  {
   "cell_type": "code",
   "execution_count": 18,
   "id": "59d93fd9",
   "metadata": {},
   "outputs": [],
   "source": [
    "from sklearn.preprocessing import MinMaxScaler\n",
    "sc=MinMaxScaler()\n",
    "x_train=sc.fit_transform(x_train)\n",
    "x_test=sc.transform(x_test)"
   ]
  },
  {
   "cell_type": "code",
   "execution_count": 19,
   "id": "86788dd5",
   "metadata": {},
   "outputs": [
    {
     "data": {
      "text/plain": [
       "array([[0.64583333, 1.        , 0.        , ..., 0.5       , 0.5       ,\n",
       "        1.        ],\n",
       "       [0.83333333, 1.        , 1.        , ..., 0.5       , 0.25      ,\n",
       "        0.66666667],\n",
       "       [0.52083333, 1.        , 0.        , ..., 1.        , 0.        ,\n",
       "        0.66666667],\n",
       "       ...,\n",
       "       [0.        , 1.        , 0.33333333, ..., 1.        , 0.        ,\n",
       "        0.66666667],\n",
       "       [0.4375    , 0.        , 0.66666667, ..., 0.5       , 0.        ,\n",
       "        0.66666667],\n",
       "       [0.70833333, 1.        , 0.        , ..., 0.5       , 0.25      ,\n",
       "        1.        ]])"
      ]
     },
     "execution_count": 19,
     "metadata": {},
     "output_type": "execute_result"
    }
   ],
   "source": [
    "x_train"
   ]
  },
  {
   "cell_type": "code",
   "execution_count": 20,
   "id": "7304b23e",
   "metadata": {},
   "outputs": [
    {
     "data": {
      "text/plain": [
       "array([[0.5       , 1.        , 0.66666667, 0.33962264, 0.2739726 ,\n",
       "        1.        , 0.        , 0.77862595, 0.        , 0.        ,\n",
       "        1.        , 0.75      , 0.66666667],\n",
       "       [0.70833333, 0.        , 0.        , 0.28301887, 0.16210046,\n",
       "        0.        , 0.5       , 0.49618321, 1.        , 0.        ,\n",
       "        0.5       , 0.        , 0.66666667],\n",
       "       [0.60416667, 0.        , 0.        , 0.05660377, 0.27853881,\n",
       "        0.        , 0.        , 0.38931298, 0.        , 0.16129032,\n",
       "        0.5       , 0.        , 0.66666667],\n",
       "       [0.25      , 0.        , 0.33333333, 0.10377358, 0.16438356,\n",
       "        0.        , 0.5       , 0.74045802, 0.        , 0.        ,\n",
       "        1.        , 0.25      , 0.66666667],\n",
       "       [0.85416667, 1.        , 0.        , 0.33962264, 0.44748858,\n",
       "        0.        , 0.        , 0.29007634, 0.        , 0.38709677,\n",
       "        0.5       , 0.75      , 0.66666667],\n",
       "       [0.60416667, 0.        , 0.        , 0.71698113, 0.2260274 ,\n",
       "        1.        , 0.        , 0.57251908, 1.        , 0.4516129 ,\n",
       "        0.5       , 0.5       , 0.33333333],\n",
       "       [0.35416667, 0.        , 0.66666667, 0.45283019, 0.11643836,\n",
       "        0.        , 0.        , 0.67938931, 1.        , 0.22580645,\n",
       "        0.        , 0.        , 0.66666667],\n",
       "       [0.3125    , 1.        , 0.33333333, 0.24528302, 0.31278539,\n",
       "        0.        , 0.5       , 0.77862595, 0.        , 0.        ,\n",
       "        1.        , 0.        , 1.        ],\n",
       "       [0.29166667, 1.        , 0.        , 0.24528302, 0.11643836,\n",
       "        0.        , 0.        , 0.3740458 , 1.        , 0.40322581,\n",
       "        0.5       , 0.        , 1.        ],\n",
       "       [0.72916667, 1.        , 1.        , 0.1509434 , 0.19406393,\n",
       "        0.        , 0.        , 0.55725191, 1.        , 0.29032258,\n",
       "        0.5       , 0.        , 0.66666667],\n",
       "       [0.85416667, 1.        , 0.66666667, 0.62264151, 0.32648402,\n",
       "        0.        , 0.5       , 0.3129771 , 1.        , 0.46774194,\n",
       "        0.5       , 0.25      , 1.        ],\n",
       "       [0.125     , 0.        , 0.        , 0.41509434, 0.13013699,\n",
       "        0.        , 0.5       , 0.84732824, 0.        , 0.22580645,\n",
       "        1.        , 0.        , 0.66666667],\n",
       "       [0.58333333, 1.        , 0.        , 0.52830189, 0.34246575,\n",
       "        0.        , 0.        , 0.3129771 , 1.        , 0.09677419,\n",
       "        0.5       , 0.25      , 0.33333333],\n",
       "       [0.52083333, 1.        , 0.        , 0.24528302, 0.14155251,\n",
       "        0.        , 0.5       , 0.32061069, 0.        , 0.22580645,\n",
       "        0.5       , 0.25      , 1.        ],\n",
       "       [0.64583333, 0.        , 1.        , 0.52830189, 0.26027397,\n",
       "        0.        , 0.5       , 0.76335878, 0.        , 0.14516129,\n",
       "        1.        , 0.        , 0.66666667],\n",
       "       [0.25      , 0.        , 0.33333333, 0.30188679, 0.4109589 ,\n",
       "        0.        , 0.5       , 0.70229008, 0.        , 0.        ,\n",
       "        1.        , 0.        , 0.66666667],\n",
       "       [0.54166667, 1.        , 0.        , 0.62264151, 0.37214612,\n",
       "        0.        , 0.        , 0.5648855 , 1.        , 0.12903226,\n",
       "        0.5       , 0.25      , 1.        ],\n",
       "       [0.125     , 1.        , 0.33333333, 0.26415094, 0.15068493,\n",
       "        0.        , 0.5       , 0.78625954, 0.        , 0.        ,\n",
       "        1.        , 0.        , 0.66666667],\n",
       "       [0.60416667, 1.        , 0.        , 0.49056604, 0.21004566,\n",
       "        0.        , 0.5       , 0.25954198, 0.        , 0.32258065,\n",
       "        0.5       , 0.25      , 1.        ],\n",
       "       [0.45833333, 1.        , 0.        , 0.43396226, 0.39497717,\n",
       "        0.        , 0.5       , 0.77862595, 1.        , 0.25806452,\n",
       "        1.        , 0.        , 1.        ],\n",
       "       [0.72916667, 0.        , 0.66666667, 0.43396226, 0.42694064,\n",
       "        0.        , 0.5       , 0.47328244, 0.        , 0.03225806,\n",
       "        1.        , 0.        , 1.        ],\n",
       "       [0.5625    , 1.        , 0.33333333, 0.33962264, 0.21689498,\n",
       "        0.        , 0.        , 0.70229008, 0.        , 0.        ,\n",
       "        1.        , 0.        , 1.        ],\n",
       "       [0.625     , 1.        , 0.        , 0.43396226, 0.11643836,\n",
       "        0.        , 0.5       , 0.69465649, 1.        , 0.        ,\n",
       "        1.        , 0.25      , 1.        ],\n",
       "       [0.79166667, 1.        , 0.        , 0.29245283, 0.29223744,\n",
       "        1.        , 0.5       , 0.70229008, 0.        , 0.03225806,\n",
       "        0.5       , 0.5       , 1.        ],\n",
       "       [0.1875    , 1.        , 1.        , 0.24528302, 0.23972603,\n",
       "        0.        , 0.5       , 0.84732824, 1.        , 0.61290323,\n",
       "        0.5       , 0.        , 1.        ],\n",
       "       [0.5       , 1.        , 0.66666667, 0.33962264, 0.16210046,\n",
       "        1.        , 0.        , 0.61832061, 0.        , 0.19354839,\n",
       "        0.        , 0.        , 0.66666667],\n",
       "       [0.27083333, 0.        , 0.66666667, 0.24528302, 0.18949772,\n",
       "        0.        , 0.5       , 0.77862595, 0.        , 0.        ,\n",
       "        0.5       , 0.        , 0.66666667],\n",
       "       [0.5       , 1.        , 0.        , 0.43396226, 0.17579909,\n",
       "        1.        , 0.        , 0.64122137, 1.        , 0.5       ,\n",
       "        0.        , 0.        , 1.        ],\n",
       "       [0.70833333, 1.        , 0.        , 0.33962264, 0.46575342,\n",
       "        1.        , 0.        , 0.46564885, 1.        , 0.29032258,\n",
       "        1.        , 0.75      , 1.        ],\n",
       "       [0.5625    , 1.        , 0.33333333, 0.24528302, 0.25114155,\n",
       "        0.        , 0.5       , 0.81679389, 0.        , 0.12903226,\n",
       "        1.        , 0.        , 0.66666667],\n",
       "       [0.5625    , 1.        , 0.33333333, 0.24528302, 0.26027397,\n",
       "        0.        , 0.5       , 0.7480916 , 0.        , 0.        ,\n",
       "        0.        , 0.        , 0.66666667],\n",
       "       [0.45833333, 0.        , 0.66666667, 0.24528302, 0.38584475,\n",
       "        0.        , 0.        , 0.65648855, 0.        , 0.09677419,\n",
       "        1.        , 0.        , 0.66666667],\n",
       "       [0.29166667, 1.        , 0.        , 0.35849057, 0.27625571,\n",
       "        1.        , 0.        , 0.54961832, 1.        , 0.01612903,\n",
       "        0.5       , 1.        , 1.        ],\n",
       "       [0.4375    , 1.        , 0.        , 0.47169811, 0.16894977,\n",
       "        0.        , 0.        , 0.41984733, 1.        , 0.14516129,\n",
       "        0.5       , 0.        , 1.        ],\n",
       "       [0.625     , 1.        , 1.        , 0.37735849, 0.17808219,\n",
       "        0.        , 0.5       , 0.69465649, 0.        , 0.12903226,\n",
       "        1.        , 0.5       , 0.66666667],\n",
       "       [0.45833333, 1.        , 0.        , 0.43396226, 0.39269406,\n",
       "        0.        , 0.5       , 0.38931298, 1.        , 0.67741935,\n",
       "        0.5       , 0.75      , 1.        ],\n",
       "       [0.25      , 1.        , 0.33333333, 0.1509434 , 0.24885845,\n",
       "        0.        , 0.5       , 0.6259542 , 0.        , 0.        ,\n",
       "        1.        , 0.        , 0.66666667],\n",
       "       [0.41666667, 1.        , 0.66666667, 0.22641509, 0.05251142,\n",
       "        0.        , 0.        , 0.41984733, 0.        , 0.12903226,\n",
       "        1.        , 0.75      , 0.66666667],\n",
       "       [0.375     , 1.        , 0.        , 0.1509434 , 0.34018265,\n",
       "        0.        , 0.        , 0.35877863, 1.        , 0.16129032,\n",
       "        0.5       , 0.25      , 0.66666667],\n",
       "       [0.625     , 1.        , 0.        , 0.66037736, 0.11415525,\n",
       "        1.        , 0.        , 0.14503817, 0.        , 0.16129032,\n",
       "        0.5       , 0.5       , 0.33333333],\n",
       "       [0.3125    , 0.        , 0.66666667, 0.13207547, 0.03424658,\n",
       "        0.        , 0.5       , 0.79389313, 0.        , 0.09677419,\n",
       "        0.5       , 0.        , 0.66666667],\n",
       "       [0.66666667, 0.        , 0.        , 0.33962264, 0.46575342,\n",
       "        0.        , 0.        , 0.7480916 , 0.        , 0.        ,\n",
       "        1.        , 0.        , 0.66666667],\n",
       "       [0.58333333, 1.        , 0.        , 0.66981132, 0.37214612,\n",
       "        1.        , 0.        , 0.40458015, 0.        , 0.16129032,\n",
       "        0.5       , 0.75      , 1.        ],\n",
       "       [0.4375    , 1.        , 0.        , 0.52830189, 0.26712329,\n",
       "        0.        , 0.        , 0.4351145 , 0.        , 0.41935484,\n",
       "        0.5       , 0.        , 1.        ],\n",
       "       [0.29166667, 0.        , 0.66666667, 0.26415094, 0.19863014,\n",
       "        0.        , 0.5       , 0.71755725, 0.        , 0.03225806,\n",
       "        0.5       , 0.        , 0.66666667],\n",
       "       [0.4375    , 1.        , 0.66666667, 0.43396226, 0.24429224,\n",
       "        0.        , 0.5       , 0.70229008, 0.        , 0.09677419,\n",
       "        0.5       , 0.25      , 1.        ],\n",
       "       [0.22916667, 1.        , 0.        , 0.1509434 , 0.09360731,\n",
       "        0.        , 0.        , 0.32824427, 1.        , 0.32258065,\n",
       "        0.5       , 0.        , 1.        ],\n",
       "       [0.375     , 1.        , 0.        , 0.16981132, 0.17808219,\n",
       "        0.        , 0.5       , 0.54961832, 0.        , 0.01612903,\n",
       "        1.        , 0.        , 0.66666667],\n",
       "       [0.45833333, 1.        , 0.66666667, 0.05660377, 0.21917808,\n",
       "        0.        , 0.5       , 0.54961832, 1.        , 0.19354839,\n",
       "        0.5       , 0.        , 0.66666667],\n",
       "       [0.39583333, 1.        , 0.33333333, 0.33962264, 0.2716895 ,\n",
       "        0.        , 0.        , 0.83206107, 0.        , 0.03225806,\n",
       "        0.5       , 0.        , 0.66666667],\n",
       "       [0.39583333, 0.        , 0.66666667, 0.33962264, 0.34018265,\n",
       "        0.        , 0.5       , 0.51908397, 0.        , 0.03225806,\n",
       "        1.        , 0.        , 0.66666667],\n",
       "       [0.1875    , 1.        , 0.66666667, 0.41509434, 0.11187215,\n",
       "        0.        , 0.5       , 0.77862595, 0.        , 0.        ,\n",
       "        1.        , 1.        , 0.66666667],\n",
       "       [0.29166667, 1.        , 0.66666667, 0.33962264, 0.43150685,\n",
       "        0.        , 0.5       , 0.69465649, 0.        , 0.30645161,\n",
       "        1.        , 0.25      , 0.66666667],\n",
       "       [0.5625    , 1.        , 0.        , 0.33962264, 0.35844749,\n",
       "        1.        , 0.        , 0.24427481, 1.        , 0.25806452,\n",
       "        0.        , 0.        , 1.        ],\n",
       "       [0.58333333, 1.        , 0.        , 0.1509434 , 0.47716895,\n",
       "        0.        , 0.5       , 0.54961832, 1.        , 0.48387097,\n",
       "        0.5       , 0.25      , 1.        ],\n",
       "       [0.64583333, 1.        , 0.        , 0.21698113, 0.23744292,\n",
       "        1.        , 0.5       , 0.67938931, 1.        , 0.22580645,\n",
       "        1.        , 0.5       , 1.        ],\n",
       "       [0.60416667, 1.        , 0.66666667, 0.35849057, 0.22374429,\n",
       "        0.        , 0.        , 0.77862595, 0.        , 0.51612903,\n",
       "        1.        , 0.5       , 1.        ],\n",
       "       [0.33333333, 0.        , 0.33333333, 0.16981132, 0.07762557,\n",
       "        0.        , 0.5       , 0.51145038, 0.        , 0.        ,\n",
       "        0.5       , 0.        , 0.66666667],\n",
       "       [0.54166667, 0.        , 0.33333333, 0.35849057, 0.49315068,\n",
       "        0.        , 0.5       , 0.72519084, 0.        , 0.19354839,\n",
       "        1.        , 0.        , 0.66666667],\n",
       "       [0.6875    , 0.        , 0.66666667, 0.33962264, 0.31278539,\n",
       "        0.        , 0.5       , 0.19847328, 0.        , 0.19354839,\n",
       "        0.5       , 0.25      , 1.        ],\n",
       "       [0.58333333, 1.        , 0.        , 0.35849057, 0.18493151,\n",
       "        0.        , 0.5       , 0.74045802, 1.        , 0.        ,\n",
       "        1.        , 0.        , 1.        ]])"
      ]
     },
     "execution_count": 20,
     "metadata": {},
     "output_type": "execute_result"
    }
   ],
   "source": [
    "x_test"
   ]
  },
  {
   "cell_type": "markdown",
   "id": "0980f11a",
   "metadata": {},
   "source": [
    "# Random Forest Classifier"
   ]
  },
  {
   "cell_type": "code",
   "execution_count": 21,
   "id": "bcce1fe3",
   "metadata": {},
   "outputs": [
    {
     "data": {
      "text/plain": [
       "RandomForestClassifier(n_estimators=50, random_state=0)"
      ]
     },
     "execution_count": 21,
     "metadata": {},
     "output_type": "execute_result"
    }
   ],
   "source": [
    "from sklearn.ensemble import RandomForestClassifier\n",
    "model=RandomForestClassifier(n_estimators=50,random_state=0)\n",
    "model.fit(x_train,y_train)"
   ]
  },
  {
   "cell_type": "code",
   "execution_count": 22,
   "id": "e20a3777",
   "metadata": {},
   "outputs": [],
   "source": [
    "y_predict=model.predict(x_test)"
   ]
  },
  {
   "cell_type": "code",
   "execution_count": 23,
   "id": "eb4e0c87",
   "metadata": {
    "scrolled": true
   },
   "outputs": [
    {
     "data": {
      "text/plain": [
       "<AxesSubplot:>"
      ]
     },
     "execution_count": 23,
     "metadata": {},
     "output_type": "execute_result"
    },
    {
     "data": {
      "image/png": "[encoded data removed]",
      "text/plain": [
       "<Figure size 432x288 with 2 Axes>"
      ]
     },
     "metadata": {
      "needs_background": "light"
     },
     "output_type": "display_data"
    }
   ],
   "source": [
    "from sklearn.metrics import confusion_matrix,accuracy_score\n",
    "cm=confusion_matrix(y_test,y_predict)\n",
    "sb.heatmap(cm,annot=True)"
   ]
  },
  {
   "cell_type": "code",
   "execution_count": 24,
   "id": "d7ea8991",
   "metadata": {},
   "outputs": [
    {
     "name": "stdout",
     "output_type": "stream",
     "text": [
      "Accuracy Score :  91.80327868852459\n"
     ]
    }
   ],
   "source": [
    "ac=accuracy_score(y_test,y_predict)\n",
    "print(\"Accuracy Score : \",ac*100)"
   ]
  },
  {
   "cell_type": "code",
   "execution_count": null,
   "id": "e5569d89",
   "metadata": {},
   "outputs": [],
   "source": []
  },
  {
   "cell_type": "code",
   "execution_count": null,
   "id": "4cecc644",
   "metadata": {},
   "outputs": [],
   "source": []
  }
 ],
 "metadata": {
  "kernelspec": {
   "display_name": "Python 3 (ipykernel)",
   "language": "python",
   "name": "python3"
  },
  "language_info": {
   "codemirror_mode": {
    "name": "ipython",
    "version": 3
   },
   "file_extension": ".py",
   "mimetype": "text/x-python",
   "name": "python",
   "nbconvert_exporter": "python",
   "pygments_lexer": "ipython3",
   "version": "3.9.7"
  }
 },
 "nbformat": 4,
 "nbformat_minor": 5
}
